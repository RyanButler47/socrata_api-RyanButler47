{
 "cells": [
  {
   "cell_type": "code",
   "execution_count": 1,
   "metadata": {},
   "outputs": [],
   "source": [
    "import requests\n",
    "import pandas as pd\n",
    "import matplotlib.pyplot as plt\n",
    "\n",
    "%matplotlib inline"
   ]
  },
  {
   "cell_type": "code",
   "execution_count": 2,
   "metadata": {},
   "outputs": [],
   "source": [
    "endpoint = 'https://data.nashville.gov/resource/fuaa-r5cm.json'"
   ]
  },
  {
   "cell_type": "code",
   "execution_count": 3,
   "metadata": {},
   "outputs": [],
   "source": [
    "response = requests.get(endpoint)"
   ]
  },
  {
   "cell_type": "code",
   "execution_count": 4,
   "metadata": {},
   "outputs": [
    {
     "data": {
      "text/plain": [
       "<Response [200]>"
      ]
     },
     "execution_count": 4,
     "metadata": {},
     "output_type": "execute_result"
    }
   ],
   "source": [
    "response"
   ]
  },
  {
   "cell_type": "code",
   "execution_count": 5,
   "metadata": {},
   "outputs": [],
   "source": [
    "result = response.json()"
   ]
  },
  {
   "cell_type": "code",
   "execution_count": 6,
   "metadata": {},
   "outputs": [
    {
     "name": "stdout",
     "output_type": "stream",
     "text": [
      "[{'month_name': 'January', 'year': '2014', 'query_count': '223', 'query_text': 'ebid'}, {'month_name': 'January', 'year': '2014', 'query_count': '112', 'query_text': 'property maps'}, {'month_name': 'January', 'year': '2014', 'query_count': '97', 'query_text': 'maps'}, {'month_name': 'January', 'year': '2014', 'query_count': '90', 'query_text': 'property tax'}, {'month_name': 'January', 'year': '2014', 'query_count': '76', 'query_text': 'jobs'}, {'month_name': 'January', 'year': '2014', 'query_count': '75', 'query_text': 'employment'}, {'month_name': 'January', 'year': '2014', 'query_count': '73', 'query_text': 'human resources'}, {'month_name': 'January', 'year': '2014', 'query_count': '62', 'query_text': 'police'}, {'month_name': 'January', 'year': '2014', 'query_count': '61', 'query_text': 'criminal court clerk'}, {'month_name': 'January', 'year': '2014', 'query_count': '53', 'query_text': 'media releases'}, {'month_name': 'January', 'year': '2014', 'query_count': '50', 'query_text': 'property taxes'}, {'month_name': 'January', 'year': '2014', 'query_count': '49', 'query_text': 'gis'}, {'month_name': 'January', 'year': '2014', 'query_count': '46', 'query_text': 'animal control'}, {'month_name': 'January', 'year': '2014', 'query_count': '46', 'query_text': 'traffic signal optimization study'}, {'month_name': 'January', 'year': '2014', 'query_count': '46', 'query_text': 'arrest records'}, {'month_name': 'January', 'year': '2014', 'query_count': '45', 'query_text': 'property assessor'}, {'month_name': 'January', 'year': '2014', 'query_count': '44', 'query_text': 'ess'}, {'month_name': 'January', 'year': '2014', 'query_count': '41', 'query_text': 'water'}, {'month_name': 'January', 'year': '2014', 'query_count': '41', 'query_text': 'zoning'}, {'month_name': 'January', 'year': '2014', 'query_count': '37', 'query_text': 'codes'}, {'month_name': 'January', 'year': '2014', 'query_count': '35', 'query_text': 'criminal court'}, {'month_name': 'January', 'year': '2014', 'query_count': '35', 'query_text': 'inside metro'}, {'month_name': 'January', 'year': '2014', 'query_count': '33', 'query_text': 'parking'}, {'month_name': 'January', 'year': '2014', 'query_count': '30', 'query_text': 'employee self service'}, {'month_name': 'January', 'year': '2014', 'query_count': '29', 'query_text': 'library'}, {'month_name': 'January', 'year': '2014', 'query_count': '29', 'query_text': 'bidding'}, {'month_name': 'January', 'year': '2014', 'query_count': '28', 'query_text': 'accident report'}, {'month_name': 'January', 'year': '2014', 'query_count': '28', 'query_text': 'planning'}, {'month_name': 'January', 'year': '2014', 'query_count': '28', 'query_text': 'pump station'}, {'month_name': 'January', 'year': '2014', 'query_count': '27', 'query_text': 'payroll'}, {'month_name': 'January', 'year': '2014', 'query_count': '27', 'query_text': 'google'}, {'month_name': 'January', 'year': '2014', 'query_count': '27', 'query_text': 'property'}, {'month_name': 'January', 'year': '2014', 'query_count': '26', 'query_text': 'register of deeds'}, {'month_name': 'January', 'year': '2014', 'query_count': '26', 'query_text': 'news media'}, {'month_name': 'January', 'year': '2014', 'query_count': '26', 'query_text': 'traffic management study'}, {'month_name': 'January', 'year': '2014', 'query_count': '26', 'query_text': 'business license'}, {'month_name': 'January', 'year': '2014', 'query_count': '25', 'query_text': 'warrants'}, {'month_name': 'January', 'year': '2014', 'query_count': '25', 'query_text': 'permits'}, {'month_name': 'January', 'year': '2014', 'query_count': '25', 'query_text': 'civil service rules'}, {'month_name': 'January', 'year': '2014', 'query_count': '24', 'query_text': 'inmate search'}, {'month_name': 'January', 'year': '2014', 'query_count': '24', 'query_text': 'civil service'}, {'month_name': 'January', 'year': '2014', 'query_count': '24', 'query_text': 'media release'}, {'month_name': 'January', 'year': '2014', 'query_count': '23', 'query_text': 'careers'}, {'month_name': 'January', 'year': '2014', 'query_count': '23', 'query_text': 'arrests'}, {'month_name': 'January', 'year': '2014', 'query_count': '23', 'query_text': 'police department'}, {'month_name': 'January', 'year': '2014', 'query_count': '22', 'query_text': 'associated bond'}, {'month_name': 'January', 'year': '2014', 'query_count': '22', 'query_text': 'procurement'}, {'month_name': 'January', 'year': '2014', 'query_count': '22', 'query_text': 'employment opportunities'}, {'month_name': 'January', 'year': '2014', 'query_count': '22', 'query_text': 'public works'}, {'month_name': 'January', 'year': '2014', 'query_count': '22', 'query_text': 'mugshots'}, {'month_name': 'January', 'year': '2014', 'query_count': '21', 'query_text': 'auction'}, {'month_name': 'January', 'year': '2014', 'query_count': '21', 'query_text': 'im'}, {'month_name': 'January', 'year': '2014', 'query_count': '20', 'query_text': 'traffic school'}, {'month_name': 'January', 'year': '2014', 'query_count': '20', 'query_text': 'sulphur dell'}, {'month_name': 'January', 'year': '2014', 'query_count': '20', 'query_text': 'web pro'}, {'month_name': 'January', 'year': '2014', 'query_count': '20', 'query_text': 'forms'}, {'month_name': 'January', 'year': '2014', 'query_count': '19', 'query_text': 'property records'}, {'month_name': 'January', 'year': '2014', 'query_count': '19', 'query_text': 'health department'}, {'month_name': 'January', 'year': '2014', 'query_count': '19', 'query_text': 'Obstructions in the street'}, {'month_name': 'January', 'year': '2014', 'query_count': '18', 'query_text': 'Ebid'}, {'month_name': 'January', 'year': '2014', 'query_count': '18', 'query_text': 'public records'}, {'month_name': 'January', 'year': '2014', 'query_count': '18', 'query_text': 'kiva'}, {'month_name': 'January', 'year': '2014', 'query_count': '18', 'query_text': 'building permits'}, {'month_name': 'January', 'year': '2014', 'query_count': '18', 'query_text': 'tax assessor'}, {'month_name': 'January', 'year': '2014', 'query_count': '18', 'query_text': 'Media releases'}, {'month_name': 'January', 'year': '2014', 'query_count': '18', 'query_text': 'leash law'}, {'month_name': 'January', 'year': '2014', 'query_count': '18', 'query_text': 'housing'}, {'month_name': 'January', 'year': '2014', 'query_count': '18', 'query_text': 'rfp'}, {'month_name': 'January', 'year': '2014', 'query_count': '17', 'query_text': 'Jobs'}, {'month_name': 'January', 'year': '2014', 'query_count': '17', 'query_text': 'booking'}, {'month_name': 'January', 'year': '2014', 'query_count': '17', 'query_text': 'stormwater'}, {'month_name': 'January', 'year': '2014', 'query_count': '17', 'query_text': 'courts'}, {'month_name': 'January', 'year': '2014', 'query_count': '17', 'query_text': 'iprocurement'}, {'month_name': 'January', 'year': '2014', 'query_count': '17', 'query_text': 'assessor'}, {'month_name': 'January', 'year': '2014', 'query_count': '17', 'query_text': 'Police'}, {'month_name': 'January', 'year': '2014', 'query_count': '17', 'query_text': 'birth certificate'}, {'month_name': 'January', 'year': '2014', 'query_count': '17', 'query_text': 'police reports'}, {'month_name': 'January', 'year': '2014', 'query_count': '16', 'query_text': 'metro action commission'}, {'month_name': 'January', 'year': '2014', 'query_count': '16', 'query_text': 'recycling'}, {'month_name': 'January', 'year': '2014', 'query_count': '16', 'query_text': 'metro water'}, {'month_name': 'January', 'year': '2014', 'query_count': '16', 'query_text': 'metro pay plan'}, {'month_name': 'January', 'year': '2014', 'query_count': '16', 'query_text': 'its'}, {'month_name': 'January', 'year': '2014', 'query_count': '16', 'query_text': 'community education'}, {'month_name': 'January', 'year': '2014', 'query_count': '15', 'query_text': 'holidays'}, {'month_name': 'January', 'year': '2014', 'query_count': '15', 'query_text': 'popular restaurants'}, {'month_name': 'January', 'year': '2014', 'query_count': '15', 'query_text': 'backflow'}, {'month_name': 'January', 'year': '2014', 'query_count': '15', 'query_text': 'marriage license'}, {'month_name': 'January', 'year': '2014', 'query_count': '15', 'query_text': 'job openings'}, {'month_name': 'January', 'year': '2014', 'query_count': '15', 'query_text': 'police report'}, {'month_name': 'January', 'year': '2014', 'query_count': '15', 'query_text': 'fiber optic design'}, {'month_name': 'January', 'year': '2014', 'query_count': '15', 'query_text': 'trustee'}, {'month_name': 'January', 'year': '2014', 'query_count': '15', 'query_text': 'increment'}, {'month_name': 'January', 'year': '2014', 'query_count': '14', 'query_text': 'cemetery'}, {'month_name': 'January', 'year': '2014', 'query_count': '14', 'query_text': 'bids'}, {'month_name': 'January', 'year': '2014', 'query_count': '14', 'query_text': 'pedestrian bridges'}, {'month_name': 'January', 'year': '2014', 'query_count': '14', 'query_text': 'zoning map'}, {'month_name': 'January', 'year': '2014', 'query_count': '14', 'query_text': 'email'}, {'month_name': 'January', 'year': '2014', 'query_count': '14', 'query_text': 'Property taxes'}, {'month_name': 'January', 'year': '2014', 'query_count': '14', 'query_text': 'budget'}, {'month_name': 'January', 'year': '2014', 'query_count': '14', 'query_text': 'traffic'}, {'month_name': 'January', 'year': '2014', 'query_count': '14', 'query_text': 'criminal report'}, {'month_name': 'January', 'year': '2014', 'query_count': '13', 'query_text': 'development tracker'}, {'month_name': 'January', 'year': '2014', 'query_count': '13', 'query_text': 'traffic incident'}, {'month_name': 'January', 'year': '2014', 'query_count': '13', 'query_text': 'directory'}, {'month_name': 'January', 'year': '2014', 'query_count': '13', 'query_text': '8.12.020'}, {'month_name': 'January', 'year': '2014', 'query_count': '13', 'query_text': 'assessor of property'}, {'month_name': 'January', 'year': '2014', 'query_count': '13', 'query_text': 'Ice skating'}, {'month_name': 'January', 'year': '2014', 'query_count': '13', 'query_text': 'utility work'}, {'month_name': 'January', 'year': '2014', 'query_count': '13', 'query_text': 'parks'}, {'month_name': 'January', 'year': '2014', 'query_count': '13', 'query_text': 'internet crimes against children'}, {'month_name': 'January', 'year': '2014', 'query_count': '13', 'query_text': 'purchasing'}, {'month_name': 'January', 'year': '2014', 'query_count': '13', 'query_text': 'metro maps'}, {'month_name': 'January', 'year': '2014', 'query_count': '13', 'query_text': 'Animal control'}, {'month_name': 'January', 'year': '2014', 'query_count': '13', 'query_text': 'pay plan'}, {'month_name': 'January', 'year': '2014', 'query_count': '13', 'query_text': 'ben west library'}, {'month_name': 'January', 'year': '2014', 'query_count': '13', 'query_text': 'mugshot'}, {'month_name': 'January', 'year': '2014', 'query_count': '13', 'query_text': 'arrest'}, {'month_name': 'January', 'year': '2014', 'query_count': '13', 'query_text': 'accident reports'}, {'month_name': 'January', 'year': '2014', 'query_count': '13', 'query_text': 'water services'}, {'month_name': 'January', 'year': '2014', 'query_count': '12', 'query_text': 'Property tax'}, {'month_name': 'January', 'year': '2014', 'query_count': '12', 'query_text': 'Steve Anderson'}, {'month_name': 'January', 'year': '2014', 'query_count': '12', 'query_text': 'planning department'}, {'month_name': 'January', 'year': '2014', 'query_count': '12', 'query_text': 'pay scale'}, {'month_name': 'January', 'year': '2014', 'query_count': '12', 'query_text': 'benefits'}, {'month_name': 'January', 'year': '2014', 'query_count': '12', 'query_text': 'impound auction'}, {'month_name': 'January', 'year': '2014', 'query_count': '12', 'query_text': 'food stamps'}, {'month_name': 'January', 'year': '2014', 'query_count': '12', 'query_text': 'bond reductions'}, {'month_name': 'January', 'year': '2014', 'query_count': '12', 'query_text': 'e bid'}, {'month_name': 'January', 'year': '2014', 'query_count': '12', 'query_text': 'Maps'}, {'month_name': 'January', 'year': '2014', 'query_count': '12', 'query_text': 'downtown code'}, {'month_name': 'January', 'year': '2014', 'query_count': '12', 'query_text': 'Metro electrical license'}, {'month_name': 'January', 'year': '2014', 'query_count': '12', 'query_text': 'metro contracts'}, {'month_name': 'January', 'year': '2014', 'query_count': '12', 'query_text': 'ess.nashville.gov'}, {'month_name': 'January', 'year': '2014', 'query_count': '12', 'query_text': 'metro action'}, {'month_name': 'January', 'year': '2014', 'query_count': '12', 'query_text': 'standby note purchase agreement'}, {'month_name': 'January', 'year': '2014', 'query_count': '11', 'query_text': 'court forms'}, {'month_name': 'January', 'year': '2014', 'query_count': '11', 'query_text': 'county clerk'}, {'month_name': 'January', 'year': '2014', 'query_count': '11', 'query_text': 'Douglas head start'}, {'month_name': 'January', 'year': '2014', 'query_count': '11', 'query_text': 'sheriff department'}, {'month_name': 'January', 'year': '2014', 'query_count': '11', 'query_text': 'finance'}, {'month_name': 'January', 'year': '2014', 'query_count': '11', 'query_text': 'hr'}, {'month_name': 'January', 'year': '2014', 'query_count': '11', 'query_text': 'sulpher dell'}, {'month_name': 'January', 'year': '2014', 'query_count': '11', 'query_text': 'arrest records by name'}, {'month_name': 'January', 'year': '2014', 'query_count': '11', 'query_text': 'BIO RETENTION PLANTING'}, {'month_name': 'January', 'year': '2014', 'query_count': '11', 'query_text': 'victims compensation'}, {'month_name': 'January', 'year': '2014', 'query_count': '11', 'query_text': 'criminal search'}, {'month_name': 'January', 'year': '2014', 'query_count': '11', 'query_text': 'japan'}, {'month_name': 'January', 'year': '2014', 'query_count': '11', 'query_text': 'property assessment'}, {'month_name': 'January', 'year': '2014', 'query_count': '11', 'query_text': 'ebid.nashville.gov'}, {'month_name': 'January', 'year': '2014', 'query_count': '11', 'query_text': 'fmla'}, {'month_name': 'January', 'year': '2014', 'query_count': '11', 'query_text': 'internship'}, {'month_name': 'January', 'year': '2014', 'query_count': '11', 'query_text': 'mnps'}, {'month_name': 'January', 'year': '2014', 'query_count': '10', 'query_text': 'ice skating'}, {'month_name': 'January', 'year': '2014', 'query_count': '10', 'query_text': 'nondiscrimination'}, {'month_name': 'January', 'year': '2014', 'query_count': '10', 'query_text': 'beer board'}, {'month_name': 'January', 'year': '2014', 'query_count': '10', 'query_text': '10 most wanted'}, {'month_name': 'January', 'year': '2014', 'query_count': '10', 'query_text': 'parthenon'}, {'month_name': 'January', 'year': '2014', 'query_count': '10', 'query_text': 'court'}, {'month_name': 'January', 'year': '2014', 'query_count': '10', 'query_text': 'online applications'}, {'month_name': 'January', 'year': '2014', 'query_count': '10', 'query_text': 'animal shelter'}, {'month_name': 'January', 'year': '2014', 'query_count': '10', 'query_text': 'notary'}, {'month_name': 'January', 'year': '2014', 'query_count': '10', 'query_text': 'EBID'}, {'month_name': 'January', 'year': '2014', 'query_count': '10', 'query_text': 'okinawa japan'}, {'month_name': 'January', 'year': '2014', 'query_count': '10', 'query_text': 'car auctions'}, {'month_name': 'January', 'year': '2014', 'query_count': '10', 'query_text': 'fire department'}, {'month_name': 'January', 'year': '2014', 'query_count': '10', 'query_text': 'license renewal'}, {'month_name': 'January', 'year': '2014', 'query_count': '10', 'query_text': 'metro holidays'}, {'month_name': 'January', 'year': '2014', 'query_count': '10', 'query_text': 'BIORETENTION'}, {'month_name': 'January', 'year': '2014', 'query_count': '10', 'query_text': 'warrant'}, {'month_name': 'January', 'year': '2014', 'query_count': '10', 'query_text': 'map'}, {'month_name': 'January', 'year': '2014', 'query_count': '10', 'query_text': 'metro water services'}, {'month_name': 'January', 'year': '2014', 'query_count': '10', 'query_text': 'police media release'}, {'month_name': 'January', 'year': '2014', 'query_count': '10', 'query_text': 'homicide victims'}, {'month_name': 'January', 'year': '2014', 'query_count': '10', 'query_text': 'recent bookings'}, {'month_name': 'January', 'year': '2014', 'query_count': '10', 'query_text': 'car titles'}, {'month_name': 'January', 'year': '2014', 'query_count': '10', 'query_text': 'procurement code'}, {'month_name': 'January', 'year': '2014', 'query_count': '10', 'query_text': 'zoning code'}, {'month_name': 'January', 'year': '2014', 'query_count': '10', 'query_text': 'STAFF'}, {'month_name': 'January', 'year': '2014', 'query_count': '10', 'query_text': 'metro public schools'}, {'month_name': 'January', 'year': '2014', 'query_count': '10', 'query_text': 'employee discounts'}, {'month_name': 'January', 'year': '2014', 'query_count': '10', 'query_text': 'robert kelly'}, {'month_name': 'January', 'year': '2014', 'query_count': '10', 'query_text': 'mapping'}, {'month_name': 'January', 'year': '2014', 'query_count': '10', 'query_text': 'records'}, {'month_name': 'January', 'year': '2014', 'query_count': '10', 'query_text': 'edmondson'}, {'month_name': 'January', 'year': '2014', 'query_count': '10', 'query_text': 'sports authority'}, {'month_name': 'January', 'year': '2014', 'query_count': '10', 'query_text': 'robert william kelley'}, {'month_name': 'January', 'year': '2014', 'query_count': '9', 'query_text': 'wrecks at a specific location in Nashville'}, {'month_name': 'January', 'year': '2014', 'query_count': '9', 'query_text': 'weather'}, {'month_name': 'January', 'year': '2014', 'query_count': '9', 'query_text': 'information security'}, {'month_name': 'January', 'year': '2014', 'query_count': '9', 'query_text': 'Street solicitation'}, {'month_name': 'January', 'year': '2014', 'query_count': '9', 'query_text': 'job'}, {'month_name': 'January', 'year': '2014', 'query_count': '9', 'query_text': 'Residency ordinance'}, {'month_name': 'January', 'year': '2014', 'query_count': '9', 'query_text': 'Codes'}, {'month_name': 'January', 'year': '2014', 'query_count': '9', 'query_text': 'Parthenon'}, {'month_name': 'January', 'year': '2014', 'query_count': '9', 'query_text': 'codes administration'}, {'month_name': 'January', 'year': '2014', 'query_count': '9', 'query_text': 'mdha'}, {'month_name': 'January', 'year': '2014', 'query_count': '9', 'query_text': 'Director of electrical codes'}, {'month_name': 'January', 'year': '2014', 'query_count': '9', 'query_text': 'BL2011-75'}, {'month_name': 'January', 'year': '2014', 'query_count': '9', 'query_text': 'internships'}, {'month_name': 'January', 'year': '2014', 'query_count': '9', 'query_text': 'reconnect fees for water service'}, {'month_name': 'January', 'year': '2014', 'query_count': '9', 'query_text': 'oem'}, {'month_name': 'January', 'year': '2014', 'query_count': '9', 'query_text': 'bid'}, {'month_name': 'January', 'year': '2014', 'query_count': '9', 'query_text': 'car tags'}, {'month_name': 'January', 'year': '2014', 'query_count': '9', 'query_text': 'bond amounts'}, {'month_name': 'January', 'year': '2014', 'query_count': '9', 'query_text': 'nashville metro police'}, {'month_name': 'January', 'year': '2014', 'query_count': '9', 'query_text': 'warrens'}, {'month_name': 'January', 'year': '2014', 'query_count': '9', 'query_text': 'emissions testing'}, {'month_name': 'January', 'year': '2014', 'query_count': '9', 'query_text': 'property tax records'}, {'month_name': 'January', 'year': '2014', 'query_count': '9', 'query_text': 'permit'}, {'month_name': 'January', 'year': '2014', 'query_count': '9', 'query_text': 'mccabe'}, {'month_name': 'January', 'year': '2014', 'query_count': '9', 'query_text': 'about me'}, {'month_name': 'January', 'year': '2014', 'query_count': '9', 'query_text': 'election commission'}, {'month_name': 'January', 'year': '2014', 'query_count': '9', 'query_text': 'davidson county clerk'}, {'month_name': 'January', 'year': '2014', 'query_count': '9', 'query_text': 'warrant search'}, {'month_name': 'January', 'year': '2014', 'query_count': '9', 'query_text': 'FAR'}, {'month_name': 'January', 'year': '2014', 'query_count': '9', 'query_text': 'Animal'}, {'month_name': 'January', 'year': '2014', 'query_count': '9', 'query_text': 'property map'}, {'month_name': 'January', 'year': '2014', 'query_count': '9', 'query_text': 'building permit'}, {'month_name': 'January', 'year': '2014', 'query_count': '9', 'query_text': 'permit bond'}, {'month_name': 'January', 'year': '2014', 'query_count': '9', 'query_text': 'prostitution'}, {'month_name': 'January', 'year': '2014', 'query_count': '8', 'query_text': 'auctions'}, {'month_name': 'January', 'year': '2014', 'query_count': '8', 'query_text': 'crime map'}, {'month_name': 'January', 'year': '2014', 'query_count': '8', 'query_text': 'snap program online'}, {'month_name': 'January', 'year': '2014', 'query_count': '8', 'query_text': 'online property maps'}, {'month_name': 'January', 'year': '2014', 'query_count': '8', 'query_text': 'salvage forms'}, {'month_name': 'January', 'year': '2014', 'query_count': '8', 'query_text': 'quick claim deed'}, {'month_name': 'January', 'year': '2014', 'query_count': '8', 'query_text': 'job descriptions'}, {'month_name': 'January', 'year': '2014', 'query_count': '8', 'query_text': 'industry classification'}, {'month_name': 'January', 'year': '2014', 'query_count': '8', 'query_text': 'last will and beneficiaries results'}, {'month_name': 'January', 'year': '2014', 'query_count': '8', 'query_text': 'increments'}, {'month_name': 'January', 'year': '2014', 'query_count': '8', 'query_text': 'GIS'}, {'month_name': 'January', 'year': '2014', 'query_count': '8', 'query_text': 'RFP'}, {'month_name': 'January', 'year': '2014', 'query_count': '8', 'query_text': 'Property maps'}, {'month_name': 'January', 'year': '2014', 'query_count': '8', 'query_text': 'delayed accident report'}, {'month_name': 'January', 'year': '2014', 'query_count': '8', 'query_text': '2012 pay plan'}, {'month_name': 'January', 'year': '2014', 'query_count': '8', 'query_text': 'bank of america'}, {'month_name': 'January', 'year': '2014', 'query_count': '8', 'query_text': 'Media release'}, {'month_name': 'January', 'year': '2014', 'query_count': '8', 'query_text': 'road improvements project'}, {'month_name': 'January', 'year': '2014', 'query_count': '8', 'query_text': 'criminal records'}, {'month_name': 'January', 'year': '2014', 'query_count': '8', 'query_text': 'flu shots'}, {'month_name': 'January', 'year': '2014', 'query_count': '8', 'query_text': 'Christmas tree'}, {'month_name': 'January', 'year': '2014', 'query_count': '8', 'query_text': 'lisa carol hall'}, {'month_name': 'January', 'year': '2014', 'query_count': '8', 'query_text': 'nataly lopez'}, {'month_name': 'January', 'year': '2014', 'query_count': '8', 'query_text': 'Employment'}, {'month_name': 'January', 'year': '2014', 'query_count': '8', 'query_text': 'chancery court'}, {'month_name': 'January', 'year': '2014', 'query_count': '8', 'query_text': 'jail'}, {'month_name': 'January', 'year': '2014', 'query_count': '8', 'query_text': 'road closures'}, {'month_name': 'January', 'year': '2014', 'query_count': '8', 'query_text': 'jobs opening'}, {'month_name': 'January', 'year': '2014', 'query_count': '8', 'query_text': 'marriage records'}, {'month_name': 'January', 'year': '2014', 'query_count': '8', 'query_text': 'codes department'}, {'month_name': 'January', 'year': '2014', 'query_count': '8', 'query_text': 'report accident'}, {'month_name': 'January', 'year': '2014', 'query_count': '8', 'query_text': 'public case information'}, {'month_name': 'January', 'year': '2017', 'query_count': '7', 'query_text': 'juvenile court'}, {'month_name': 'January', 'year': '2014', 'query_count': '8', 'query_text': 'Flu shots'}, {'month_name': 'January', 'year': '2014', 'query_count': '8', 'query_text': 'metro 3'}, {'month_name': 'January', 'year': '2014', 'query_count': '8', 'query_text': 'company code'}, {'month_name': 'January', 'year': '2014', 'query_count': '8', 'query_text': 'isupplier'}, {'month_name': 'January', 'year': '2014', 'query_count': '8', 'query_text': 'buzzsaw'}, {'month_name': 'January', 'year': '2014', 'query_count': '8', 'query_text': 'accident report form'}, {'month_name': 'January', 'year': '2014', 'query_count': '8', 'query_text': 'planning commission'}, {'month_name': 'January', 'year': '2014', 'query_count': '8', 'query_text': 'what zone am i in'}, {'month_name': 'January', 'year': '2014', 'query_count': '8', 'query_text': 'login'}, {'month_name': 'January', 'year': '2014', 'query_count': '8', 'query_text': 'schools'}, {'month_name': 'January', 'year': '2014', 'query_count': '7', 'query_text': 'Arrests'}, {'month_name': 'January', 'year': '2014', 'query_count': '7', 'query_text': 'chicken'}, {'month_name': 'January', 'year': '2014', 'query_count': '7', 'query_text': 'inmate'}, {'month_name': 'January', 'year': '2014', 'query_count': '7', 'query_text': 'circuit court'}, {'month_name': 'January', 'year': '2014', 'query_count': '7', 'query_text': 'roof architect'}, {'month_name': 'January', 'year': '2014', 'query_count': '7', 'query_text': 'Get Covered Nashville'}, {'month_name': 'January', 'year': '2014', 'query_count': '7', 'query_text': 'feild training officers'}, {'month_name': 'January', 'year': '2014', 'query_count': '7', 'query_text': 'Application for Metro electrical license'}, {'month_name': 'January', 'year': '2014', 'query_count': '7', 'query_text': 'www.google.com'}, {'month_name': 'January', 'year': '2014', 'query_count': '7', 'query_text': 'birth certificates'}, {'month_name': 'January', 'year': '2014', 'query_count': '7', 'query_text': 'population'}, {'month_name': 'January', 'year': '2014', 'query_count': '7', 'query_text': 'fingerprinting'}, {'month_name': 'January', 'year': '2014', 'query_count': '7', 'query_text': 'rosa parks boulevard'}, {'month_name': 'January', 'year': '2014', 'query_count': '7', 'query_text': 'metro clerk'}, {'month_name': 'January', 'year': '2014', 'query_count': '7', 'query_text': 'noise complaint'}, {'month_name': 'January', 'year': '2014', 'query_count': '7', 'query_text': 'Lakeside Cove'}, {'month_name': 'January', 'year': '2014', 'query_count': '7', 'query_text': 'criminal'}, {'month_name': 'January', 'year': '2014', 'query_count': '7', 'query_text': 'police training academy'}, {'month_name': 'January', 'year': '2014', 'query_count': '7', 'query_text': 'recent arrest records'}, {'month_name': 'January', 'year': '2014', 'query_count': '7', 'query_text': 'east Nashville ,tn 37207'}, {'month_name': 'January', 'year': '2014', 'query_count': '7', 'query_text': 'wrecker'}, {'month_name': 'January', 'year': '2014', 'query_count': '7', 'query_text': 'alarm permit'}, {'month_name': 'January', 'year': '2014', 'query_count': '7', 'query_text': '20th'}, {'month_name': 'January', 'year': '2014', 'query_count': '7', 'query_text': 'dog ordinance'}, {'month_name': 'January', 'year': '2014', 'query_count': '7', 'query_text': 'construction notification ordinance'}, {'month_name': 'January', 'year': '2014', 'query_count': '7', 'query_text': 'tennis'}, {'month_name': 'January', 'year': '2014', 'query_count': '7', 'query_text': 'special event permit'}, {'month_name': 'January', 'year': '2014', 'query_count': '7', 'query_text': 'urban zoning overlay'}, {'month_name': 'January', 'year': '2014', 'query_count': '7', 'query_text': 'Accident report'}, {'month_name': 'January', 'year': '2014', 'query_count': '7', 'query_text': 'recycle'}, {'month_name': 'January', 'year': '2014', 'query_count': '7', 'query_text': 'career'}, {'month_name': 'January', 'year': '2014', 'query_count': '7', 'query_text': 'community centers'}, {'month_name': 'January', 'year': '2014', 'query_count': '7', 'query_text': 'probate'}, {'month_name': 'January', 'year': '2014', 'query_count': '7', 'query_text': 'easements, gateway pedestrian bridge'}, {'month_name': 'January', 'year': '2014', 'query_count': '7', 'query_text': 'tax records'}, {'month_name': 'January', 'year': '2014', 'query_count': '7', 'query_text': 'benefit board'}, {'month_name': 'January', 'year': '2014', 'query_count': '7', 'query_text': 'nashville most wanted'}, {'month_name': 'January', 'year': '2014', 'query_count': '7', 'query_text': 'inside metro website address'}, {'month_name': 'January', 'year': '2014', 'query_count': '7', 'query_text': 'shown mcclanahan'}, {'month_name': 'January', 'year': '2014', 'query_count': '7', 'query_text': 'christmas tree'}, {'month_name': 'January', 'year': '2014', 'query_count': '7', 'query_text': 'utility construction'}, {'month_name': 'January', 'year': '2014', 'query_count': '7', 'query_text': 'charter for residency for Metro employees'}, {'month_name': 'January', 'year': '2014', 'query_count': '7', 'query_text': 'james duncan'}, {'month_name': 'January', 'year': '2014', 'query_count': '7', 'query_text': 'mapping gis'}, {'month_name': 'January', 'year': '2014', 'query_count': '7', 'query_text': 'contract bids'}, {'month_name': 'January', 'year': '2014', 'query_count': '7', 'query_text': 'city of brentwood'}, {'month_name': 'January', 'year': '2014', 'query_count': '7', 'query_text': 'news channel 5'}, {'month_name': 'January', 'year': '2014', 'query_count': '7', 'query_text': 'public schools'}, {'month_name': 'January', 'year': '2014', 'query_count': '7', 'query_text': 'public arrest records'}, {'month_name': 'January', 'year': '2014', 'query_count': '7', 'query_text': 'court clerk'}, {'month_name': 'January', 'year': '2014', 'query_count': '7', 'query_text': 'whooping cough'}, {'month_name': 'January', 'year': '2014', 'query_count': '7', 'query_text': 'property limes'}, {'month_name': 'January', 'year': '2014', 'query_count': '7', 'query_text': 'ebid nashville'}, {'month_name': 'January', 'year': '2014', 'query_count': '7', 'query_text': 'Basketball goals'}, {'month_name': 'January', 'year': '2014', 'query_count': '7', 'query_text': 'Alan espinoza'}, {'month_name': 'January', 'year': '2014', 'query_count': '7', 'query_text': 'civil service commission'}, {'month_name': 'January', 'year': '2014', 'query_count': '7', 'query_text': 'child support'}, {'month_name': 'January', 'year': '2014', 'query_count': '7', 'query_text': \"sheriff's department\"}, {'month_name': 'January', 'year': '2014', 'query_count': '7', 'query_text': 'ccc'}, {'month_name': 'January', 'year': '2014', 'query_count': '7', 'query_text': 'proprietary insurance companies'}, {'month_name': 'January', 'year': '2014', 'query_count': '7', 'query_text': 'deeds'}, {'month_name': 'January', 'year': '2014', 'query_count': '7', 'query_text': 'signs'}, {'month_name': 'January', 'year': '2014', 'query_count': '7', 'query_text': 'building permit fees'}, {'month_name': 'January', 'year': '2014', 'query_count': '7', 'query_text': 'custodian application'}, {'month_name': 'January', 'year': '2014', 'query_count': '7', 'query_text': 'drivers license'}, {'month_name': 'January', 'year': '2014', 'query_count': '7', 'query_text': 'flood'}, {'month_name': 'January', 'year': '2014', 'query_count': '7', 'query_text': 'dental'}, {'month_name': 'January', 'year': '2014', 'query_count': '7', 'query_text': 'noise ordinance'}, {'month_name': 'January', 'year': '2014', 'query_count': '7', 'query_text': 'employee directory'}, {'month_name': 'January', 'year': '2014', 'query_count': '7', 'query_text': 'SMWBE Form'}, {'month_name': 'January', 'year': '2014', 'query_count': '7', 'query_text': 'PROPERTY TAX'}, {'month_name': 'January', 'year': '2014', 'query_count': '6', 'query_text': 'emergency management'}, {'month_name': 'January', 'year': '2014', 'query_count': '6', 'query_text': 'contractors License bond form'}, {'month_name': 'January', 'year': '2014', 'query_count': '6', 'query_text': 'trash pickup'}, {'month_name': 'January', 'year': '2014', 'query_count': '6', 'query_text': 'surplus auction'}, {'month_name': 'January', 'year': '2014', 'query_count': '6', 'query_text': 'pedestrian benefit zone'}, {'month_name': 'January', 'year': '2014', 'query_count': '6', 'query_text': 'hiring jobs'}, {'month_name': 'January', 'year': '2014', 'query_count': '6', 'query_text': 'tax'}, {'month_name': 'January', 'year': '2014', 'query_count': '6', 'query_text': 'agricultural zoning'}, {'month_name': 'January', 'year': '2014', 'query_count': '6', 'query_text': 'WEB PRO'}, {'month_name': 'January', 'year': '2014', 'query_count': '6', 'query_text': 'metro parks'}, {'month_name': 'January', 'year': '2014', 'query_count': '6', 'query_text': 'shelby street pedestrian bridge'}, {'month_name': 'January', 'year': '2014', 'query_count': '6', 'query_text': 'chaplain'}, {'month_name': 'January', 'year': '2014', 'query_count': '6', 'query_text': 'immigrant community assessment'}, {'month_name': 'January', 'year': '2014', 'query_count': '6', 'query_text': '2014 crime reports'}, {'month_name': 'January', 'year': '2014', 'query_count': '6', 'query_text': 'trash'}, {'month_name': 'January', 'year': '2014', 'query_count': '6', 'query_text': 'Permit'}, {'month_name': 'January', 'year': '2014', 'query_count': '6', 'query_text': 'counterfit money'}, {'month_name': 'January', 'year': '2014', 'query_count': '6', 'query_text': 'waiver to work in metropolitan government'}, {'month_name': 'January', 'year': '2014', 'query_count': '6', 'query_text': 'drug bust'}, {'month_name': 'January', 'year': '2014', 'query_count': '6', 'query_text': 'property owner'}, {'month_name': 'January', 'year': '2014', 'query_count': '6', 'query_text': 'traffic and parking commission 2013 speed limit'}, {'month_name': 'January', 'year': '2014', 'query_count': '6', 'query_text': 'Food Vendor license'}, {'month_name': 'January', 'year': '2014', 'query_count': '6', 'query_text': 'shawn mcclanahan'}, {'month_name': 'January', 'year': '2014', 'query_count': '6', 'query_text': 'unemployment'}, {'month_name': 'January', 'year': '2014', 'query_count': '6', 'query_text': 'metropolitan action commission'}, {'month_name': 'January', 'year': '2014', 'query_count': '6', 'query_text': 'zoning map\\\\'}, {'month_name': 'January', 'year': '2014', 'query_count': '6', 'query_text': 'parks and recreation'}, {'month_name': 'January', 'year': '2014', 'query_count': '6', 'query_text': 'property search'}, {'month_name': 'January', 'year': '2014', 'query_count': '6', 'query_text': 'TREE'}, {'month_name': 'January', 'year': '2014', 'query_count': '6', 'query_text': 'intergovernmental agreement city of brentwood'}, {'month_name': 'January', 'year': '2014', 'query_count': '6', 'query_text': 'drink up nashville project'}, {'month_name': 'January', 'year': '2014', 'query_count': '6', 'query_text': 'Food vendor'}, {'month_name': 'January', 'year': '2014', 'query_count': '6', 'query_text': 'metro police department'}, {'month_name': 'January', 'year': '2014', 'query_count': '6', 'query_text': 'surveillance camera'}, {'month_name': 'January', 'year': '2014', 'query_count': '6', 'query_text': 'Debbie Miller Phillips'}, {'month_name': 'January', 'year': '2014', 'query_count': '6', 'query_text': 'charles wesley tomlin'}, {'month_name': 'January', 'year': '2014', 'query_count': '6', 'query_text': 'construction and demolition recycling facility'}, {'month_name': 'January', 'year': '2014', 'query_count': '6', 'query_text': 'Criminal records'}, {'month_name': 'January', 'year': '2014', 'query_count': '6', 'query_text': 'wedgewood-houston'}, {'month_name': 'January', 'year': '2014', 'query_count': '6', 'query_text': 'setback'}, {'month_name': 'January', 'year': '2014', 'query_count': '6', 'query_text': 'u'}, {'month_name': 'January', 'year': '2014', 'query_count': '6', 'query_text': 'fire department annual report'}, {'month_name': 'January', 'year': '2014', 'query_count': '6', 'query_text': 'skyline photo contest'}, {'month_name': 'January', 'year': '2014', 'query_count': '6', 'query_text': 'VERONICA  FRAZIER'}, {'month_name': 'January', 'year': '2014', 'query_count': '6', 'query_text': 'active warrant'}, {'month_name': 'January', 'year': '2014', 'query_count': '6', 'query_text': 'sounds'}, {'month_name': 'January', 'year': '2014', 'query_count': '6', 'query_text': 'arrest list'}, {'month_name': 'January', 'year': '2014', 'query_count': '6', 'query_text': 'ashton park'}, {'month_name': 'January', 'year': '2014', 'query_count': '6', 'query_text': 'time sheet'}, {'month_name': 'January', 'year': '2014', 'query_count': '6', 'query_text': 'transportation'}, {'month_name': 'March', 'year': '2014', 'query_count': '16', 'query_text': 'mdha'}, {'month_name': 'January', 'year': '2014', 'query_count': '6', 'query_text': 'Fire Code Violation Fines'}, {'month_name': 'January', 'year': '2014', 'query_count': '6', 'query_text': 'thomas russell'}, {'month_name': 'January', 'year': '2014', 'query_count': '6', 'query_text': 'utilities'}, {'month_name': 'January', 'year': '2014', 'query_count': '6', 'query_text': 'property description'}, {'month_name': 'January', 'year': '2014', 'query_count': '6', 'query_text': 'interactive map'}, {'month_name': 'January', 'year': '2014', 'query_count': '6', 'query_text': 'childcare'}, {'month_name': 'January', 'year': '2014', 'query_count': '6', 'query_text': 'sprinkler adjustment'}, {'month_name': 'January', 'year': '2014', 'query_count': '6', 'query_text': 'Criminal court clerk'}, {'month_name': 'January', 'year': '2014', 'query_count': '6', 'query_text': 'paystubs'}, {'month_name': 'January', 'year': '2014', 'query_count': '6', 'query_text': 'construction notice ordinance'}, {'month_name': 'January', 'year': '2014', 'query_count': '6', 'query_text': 'council term limits'}, {'month_name': 'January', 'year': '2014', 'query_count': '6', 'query_text': 'metro police'}, {'month_name': 'January', 'year': '2014', 'query_count': '6', 'query_text': 'dmv'}, {'month_name': 'January', 'year': '2014', 'query_count': '6', 'query_text': 'community center'}, {'month_name': 'January', 'year': '2014', 'query_count': '6', 'query_text': 'E permits'}, {'month_name': 'January', 'year': '2014', 'query_count': '6', 'query_text': 'sheriff'}, {'month_name': 'January', 'year': '2014', 'query_count': '6', 'query_text': 'road delays'}, {'month_name': 'January', 'year': '2014', 'query_count': '6', 'query_text': 'field training officers'}, {'month_name': 'January', 'year': '2014', 'query_count': '6', 'query_text': 'phone number'}, {'month_name': 'January', 'year': '2014', 'query_count': '6', 'query_text': 'subdivision regulations'}, {'month_name': 'January', 'year': '2014', 'query_count': '6', 'query_text': 'Web pro'}, {'month_name': 'January', 'year': '2014', 'query_count': '6', 'query_text': 'BAO'}, {'month_name': 'January', 'year': '2014', 'query_count': '6', 'query_text': 'pet food contract'}, {'month_name': 'January', 'year': '2014', 'query_count': '6', 'query_text': 'noise'}, {'month_name': 'January', 'year': '2014', 'query_count': '6', 'query_text': 'bills introduction by Ron Nollner'}, {'month_name': 'January', 'year': '2014', 'query_count': '6', 'query_text': 'divorce records'}, {'month_name': 'January', 'year': '2014', 'query_count': '6', 'query_text': 'Mugshots'}, {'month_name': 'January', 'year': '2014', 'query_count': '6', 'query_text': 'land use table'}, {'month_name': 'January', 'year': '2014', 'query_count': '6', 'query_text': 'castleman drive'}, {'month_name': 'January', 'year': '2014', 'query_count': '6', 'query_text': 'demographics'}, {'month_name': 'January', 'year': '2014', 'query_count': '6', 'query_text': 'street closures'}, {'month_name': 'January', 'year': '2014', 'query_count': '6', 'query_text': 'e permits'}, {'month_name': 'January', 'year': '2014', 'query_count': '6', 'query_text': 'MDHA redevelopment districts'}, {'month_name': 'January', 'year': '2014', 'query_count': '6', 'query_text': 'special events'}, {'month_name': 'January', 'year': '2014', 'query_count': '6', 'query_text': 'unemployment benefits'}, {'month_name': 'January', 'year': '2014', 'query_count': '6', 'query_text': 'Inmate search'}, {'month_name': 'January', 'year': '2014', 'query_count': '6', 'query_text': 'ballpark'}, {'month_name': 'January', 'year': '2014', 'query_count': '6', 'query_text': 'music city center'}, {'month_name': 'January', 'year': '2014', 'query_count': '6', 'query_text': 'james robertson parkway'}, {'month_name': 'January', 'year': '2014', 'query_count': '6', 'query_text': 'central wastewater treatment plant'}, {'month_name': 'January', 'year': '2014', 'query_count': '6', 'query_text': 'archive'}, {'month_name': 'January', 'year': '2014', 'query_count': '6', 'query_text': 'parking spaces'}, {'month_name': 'January', 'year': '2014', 'query_count': '6', 'query_text': 'Active inmates'}, {'month_name': 'January', 'year': '2014', 'query_count': '6', 'query_text': 'BL2014-653'}, {'month_name': 'January', 'year': '2014', 'query_count': '6', 'query_text': 'w2'}, {'month_name': 'January', 'year': '2014', 'query_count': '6', 'query_text': 'Crime'}, {'month_name': 'January', 'year': '2014', 'query_count': '6', 'query_text': 'traffic signal study'}, {'month_name': 'January', 'year': '2014', 'query_count': '6', 'query_text': 'storm water'}, {'month_name': 'January', 'year': '2014', 'query_count': '6', 'query_text': 'Codes administration'}, {'month_name': 'January', 'year': '2014', 'query_count': '6', 'query_text': 'ing'}, {'month_name': 'January', 'year': '2014', 'query_count': '6', 'query_text': 'robert kelley'}, {'month_name': 'January', 'year': '2014', 'query_count': '6', 'query_text': 'restaurant inspection reports'}, {'month_name': 'January', 'year': '2014', 'query_count': '6', 'query_text': 'employee discount programs'}, {'month_name': 'January', 'year': '2014', 'query_count': '6', 'query_text': 'taxes'}, {'month_name': 'January', 'year': '2014', 'query_count': '6', 'query_text': 'daily arrest'}, {'month_name': 'January', 'year': '2014', 'query_count': '6', 'query_text': 'parking ordinance'}, {'month_name': 'January', 'year': '2014', 'query_count': '6', 'query_text': 'madison precinct'}, {'month_name': 'January', 'year': '2014', 'query_count': '6', 'query_text': 'traffic and parking commission meetings'}, {'month_name': 'January', 'year': '2014', 'query_count': '6', 'query_text': 'animal'}, {'month_name': 'January', 'year': '2014', 'query_count': '6', 'query_text': 'fiber optic design standards'}, {'month_name': 'January', 'year': '2014', 'query_count': '6', 'query_text': 'most wanted'}, {'month_name': 'January', 'year': '2014', 'query_count': '6', 'query_text': 'Encroachments in roadway'}, {'month_name': 'January', 'year': '2014', 'query_count': '6', 'query_text': 'tracy buck'}, {'month_name': 'January', 'year': '2014', 'query_count': '6', 'query_text': 'archives newspapers Nashville tn'}, {'month_name': 'January', 'year': '2014', 'query_count': '6', 'query_text': 'stormwater fee'}, {'month_name': 'January', 'year': '2014', 'query_count': '6', 'query_text': 'pay property taxes'}, {'month_name': 'January', 'year': '2014', 'query_count': '6', 'query_text': 'use and occupancy permit'}, {'month_name': 'January', 'year': '2014', 'query_count': '6', 'query_text': 'TB Program Director'}, {'month_name': 'January', 'year': '2014', 'query_count': '6', 'query_text': 'english only'}, {'month_name': 'January', 'year': '2014', 'query_count': '6', 'query_text': 'solicitation'}, {'month_name': 'January', 'year': '2014', 'query_count': '6', 'query_text': 'metro charter'}, {'month_name': 'January', 'year': '2014', 'query_count': '6', 'query_text': 'r-20 zoning'}, {'month_name': 'January', 'year': '2014', 'query_count': '6', 'query_text': 'bond form'}, {'month_name': 'January', 'year': '2014', 'query_count': '6', 'query_text': 'EASEMENT FOR PIN HOOK RD'}, {'month_name': 'January', 'year': '2014', 'query_count': '6', 'query_text': 'cocaine'}, {'month_name': 'January', 'year': '2014', 'query_count': '6', 'query_text': 'Adult education'}, {'month_name': 'January', 'year': '2014', 'query_count': '5', 'query_text': 'copy of police report'}, {'month_name': 'January', 'year': '2014', 'query_count': '5', 'query_text': 'green infrastructure'}, {'month_name': 'January', 'year': '2014', 'query_count': '5', 'query_text': 'spay/neuter assistance program'}, {'month_name': 'January', 'year': '2014', 'query_count': '5', 'query_text': 'standby note fee'}, {'month_name': 'January', 'year': '2014', 'query_count': '5', 'query_text': 'sidewalks'}, {'month_name': 'January', 'year': '2014', 'query_count': '5', 'query_text': 'fec'}, {'month_name': 'January', 'year': '2014', 'query_count': '5', 'query_text': 'office hours'}, {'month_name': 'January', 'year': '2014', 'query_count': '5', 'query_text': 'newsletter'}, {'month_name': 'January', 'year': '2014', 'query_count': '5', 'query_text': 'ordinance no. bl2009-586'}, {'month_name': 'January', 'year': '2014', 'query_count': '5', 'query_text': 'file accident report'}, {'month_name': 'January', 'year': '2014', 'query_count': '5', 'query_text': 'demolition permit'}, {'month_name': 'January', 'year': '2014', 'query_count': '5', 'query_text': 'dump'}, {'month_name': 'January', 'year': '2014', 'query_count': '5', 'query_text': 'tillman'}, {'month_name': 'January', 'year': '2014', 'query_count': '5', 'query_text': 'amazon.com'}, {'month_name': 'January', 'year': '2014', 'query_count': '5', 'query_text': 'Occupancy tax'}, {'month_name': 'January', 'year': '2014', 'query_count': '5', 'query_text': 'robert william kelly'}, {'month_name': 'January', 'year': '2014', 'query_count': '5', 'query_text': 'necat'}, {'month_name': 'January', 'year': '2014', 'query_count': '5', 'query_text': 'Auction'}, {'month_name': 'January', 'year': '2014', 'query_count': '5', 'query_text': 'Lisa Howe'}, {'month_name': 'January', 'year': '2014', 'query_count': '5', 'query_text': 'rezoning'}, {'month_name': 'January', 'year': '2014', 'query_count': '5', 'query_text': 'Pay Plan 2014'}, {'month_name': 'January', 'year': '2014', 'query_count': '5', 'query_text': 'flood buyout audit'}, {'month_name': 'January', 'year': '2014', 'query_count': '5', 'query_text': 'trash collection'}, {'month_name': 'January', 'year': '2014', 'query_count': '5', 'query_text': 'Tax Relief/Exemptions'}, {'month_name': 'January', 'year': '2014', 'query_count': '5', 'query_text': 'harrison bay'}, {'month_name': 'January', 'year': '2014', 'query_count': '5', 'query_text': 'FESSLERS LANE'}, {'month_name': 'January', 'year': '2014', 'query_count': '5', 'query_text': 'childcare listing'}, {'month_name': 'January', 'year': '2014', 'query_count': '5', 'query_text': 'juvenile detention'}, {'month_name': 'January', 'year': '2014', 'query_count': '5', 'query_text': 'benefit self service'}, {'month_name': 'January', 'year': '2014', 'query_count': '5', 'query_text': 'job lists'}, {'month_name': 'January', 'year': '2014', 'query_count': '5', 'query_text': 'phillips jackson redevelopment district'}, {'month_name': 'January', 'year': '2014', 'query_count': '5', 'query_text': 'east precinct'}, {'month_name': 'January', 'year': '2014', 'query_count': '5', 'query_text': 'fence setback requirements'}, {'month_name': 'January', 'year': '2014', 'query_count': '5', 'query_text': 'plumbing license'}, {'month_name': 'January', 'year': '2014', 'query_count': '5', 'query_text': 'ebid auction'}, {'month_name': 'January', 'year': '2014', 'query_count': '5', 'query_text': 'JAIL'}, {'month_name': 'January', 'year': '2014', 'query_count': '5', 'query_text': 'auto accident report'}, {'month_name': 'January', 'year': '2014', 'query_count': '5', 'query_text': 'income eligibility'}, {'month_name': 'January', 'year': '2014', 'query_count': '5', 'query_text': 'vpn'}, {'month_name': 'January', 'year': '2014', 'query_count': '5', 'query_text': 'electrical permits'}, {'month_name': 'February', 'year': '2014', 'query_count': '298', 'query_text': 'ebid'}, {'month_name': 'February', 'year': '2014', 'query_count': '185', 'query_text': 'property taxes'}, {'month_name': 'February', 'year': '2014', 'query_count': '140', 'query_text': 'maps'}, {'month_name': 'February', 'year': '2014', 'query_count': '140', 'query_text': 'property maps'}, {'month_name': 'February', 'year': '2014', 'query_count': '134', 'query_text': 'jobs'}, {'month_name': 'February', 'year': '2014', 'query_count': '124', 'query_text': 'property tax'}, {'month_name': 'February', 'year': '2014', 'query_count': '114', 'query_text': 'employment'}, {'month_name': 'February', 'year': '2014', 'query_count': '112', 'query_text': 'media releases'}, {'month_name': 'February', 'year': '2014', 'query_count': '106', 'query_text': 'criminal court clerk'}, {'month_name': 'February', 'year': '2014', 'query_count': '105', 'query_text': 'police'}, {'month_name': 'February', 'year': '2014', 'query_count': '75', 'query_text': 'codes'}, {'month_name': 'February', 'year': '2014', 'query_count': '67', 'query_text': 'zoning'}, {'month_name': 'February', 'year': '2014', 'query_count': '66', 'query_text': 'human resources'}, {'month_name': 'February', 'year': '2014', 'query_count': '64', 'query_text': 'water'}, {'month_name': 'February', 'year': '2014', 'query_count': '63', 'query_text': 'animal control'}, {'month_name': 'February', 'year': '2014', 'query_count': '62', 'query_text': 'property assessor'}, {'month_name': 'February', 'year': '2014', 'query_count': '59', 'query_text': 'media release'}, {'month_name': 'February', 'year': '2014', 'query_count': '57', 'query_text': 'trustee'}, {'month_name': 'February', 'year': '2014', 'query_count': '54', 'query_text': 'inmate search'}, {'month_name': 'February', 'year': '2014', 'query_count': '51', 'query_text': 'employee self service'}, {'month_name': 'February', 'year': '2014', 'query_count': '50', 'query_text': 'pay property taxes'}, {'month_name': 'February', 'year': '2014', 'query_count': '48', 'query_text': 'Ebid'}, {'month_name': 'February', 'year': '2014', 'query_count': '47', 'query_text': 'metro water'}, {'month_name': 'February', 'year': '2014', 'query_count': '47', 'query_text': 'arrest records'}, {'month_name': 'February', 'year': '2014', 'query_count': '46', 'query_text': 'warrants'}, {'month_name': 'February', 'year': '2014', 'query_count': '46', 'query_text': 'ess'}, {'month_name': 'February', 'year': '2014', 'query_count': '45', 'query_text': 'public works'}, {'month_name': 'February', 'year': '2014', 'query_count': '44', 'query_text': 'criminal court'}, {'month_name': 'February', 'year': '2014', 'query_count': '41', 'query_text': 'register of deeds'}, {'month_name': 'February', 'year': '2014', 'query_count': '40', 'query_text': 'accident report'}, {'month_name': 'February', 'year': '2014', 'query_count': '40', 'query_text': 'business license'}, {'month_name': 'February', 'year': '2014', 'query_count': '39', 'query_text': 'planning'}, {'month_name': 'February', 'year': '2014', 'query_count': '39', 'query_text': 'tax assessor'}, {'month_name': 'February', 'year': '2014', 'query_count': '39', 'query_text': 'Media releases'}, {'month_name': 'February', 'year': '2014', 'query_count': '38', 'query_text': 'permits'}, {'month_name': 'February', 'year': '2014', 'query_count': '38', 'query_text': 'child support'}, {'month_name': 'February', 'year': '2014', 'query_count': '38', 'query_text': 'civil service rules'}, {'month_name': 'February', 'year': '2014', 'query_count': '37', 'query_text': 'assessor'}, {'month_name': 'February', 'year': '2014', 'query_count': '36', 'query_text': 'traffic'}, {'month_name': 'February', 'year': '2014', 'query_count': '34', 'query_text': 'tag renewal'}, {'month_name': 'February', 'year': '2014', 'query_count': '34', 'query_text': 'google'}, {'month_name': 'February', 'year': '2014', 'query_count': '34', 'query_text': 'im'}, {'month_name': 'February', 'year': '2014', 'query_count': '34', 'query_text': 'mugshots'}, {'month_name': 'February', 'year': '2014', 'query_count': '34', 'query_text': 'police department'}, {'month_name': 'February', 'year': '2014', 'query_count': '33', 'query_text': 'property'}, {'month_name': 'February', 'year': '2014', 'query_count': '32', 'query_text': 'public health regulatory programs'}, {'month_name': 'February', 'year': '2014', 'query_count': '31', 'query_text': 'gis'}, {'month_name': 'February', 'year': '2014', 'query_count': '31', 'query_text': 'inside metro'}, {'month_name': 'February', 'year': '2014', 'query_count': '30', 'query_text': 'county clerk'}, {'month_name': 'February', 'year': '2014', 'query_count': '30', 'query_text': 'auction'}, {'month_name': 'February', 'year': '2014', 'query_count': '30', 'query_text': 'impound auction'}, {'month_name': 'February', 'year': '2014', 'query_count': '30', 'query_text': 'inmates'}, {'month_name': 'February', 'year': '2014', 'query_count': '30', 'query_text': 'Police'}, {'month_name': 'February', 'year': '2014', 'query_count': '29', 'query_text': 'prostitution'}, {'month_name': 'February', 'year': '2014', 'query_count': '29', 'query_text': 'public records'}, {'month_name': 'February', 'year': '2014', 'query_count': '28', 'query_text': 'codes administration'}, {'month_name': 'February', 'year': '2014', 'query_count': '28', 'query_text': 'parking'}, {'month_name': 'February', 'year': '2014', 'query_count': '28', 'query_text': 'divorce records'}, {'month_name': 'February', 'year': '2014', 'query_count': '28', 'query_text': 'accident reports'}, {'month_name': 'February', 'year': '2014', 'query_count': '28', 'query_text': 'internship'}, {'month_name': 'February', 'year': '2014', 'query_count': '27', 'query_text': 'Media release'}, {'month_name': 'February', 'year': '2014', 'query_count': '26', 'query_text': 'holidays'}, {'month_name': 'February', 'year': '2014', 'query_count': '26', 'query_text': 'Jobs'}, {'month_name': 'February', 'year': '2014', 'query_count': '26', 'query_text': 'internships'}, {'month_name': 'February', 'year': '2014', 'query_count': '26', 'query_text': 'criminal records'}, {'month_name': 'February', 'year': '2014', 'query_count': '26', 'query_text': 'purchasing'}, {'month_name': 'February', 'year': '2014', 'query_count': '26', 'query_text': 'civil service'}, {'month_name': 'February', 'year': '2014', 'query_count': '26', 'query_text': 'mapping'}, {'month_name': 'February', 'year': '2014', 'query_count': '25', 'query_text': 'careers'}, {'month_name': 'February', 'year': '2014', 'query_count': '25', 'query_text': 'election commission'}, {'month_name': 'February', 'year': '2014', 'query_count': '24', 'query_text': 'parthenon'}, {'month_name': 'February', 'year': '2014', 'query_count': '24', 'query_text': 'bids'}, {'month_name': 'February', 'year': '2014', 'query_count': '24', 'query_text': 'library'}, {'month_name': 'February', 'year': '2014', 'query_count': '24', 'query_text': 'sheriff'}, {'month_name': 'February', 'year': '2014', 'query_count': '24', 'query_text': 'bidding'}, {'month_name': 'February', 'year': '2014', 'query_count': '24', 'query_text': 'forms'}, {'month_name': 'February', 'year': '2014', 'query_count': '23', 'query_text': 'mdha'}, {'month_name': 'February', 'year': '2014', 'query_count': '23', 'query_text': 'metro action commission'}, {'month_name': 'February', 'year': '2014', 'query_count': '23', 'query_text': 'divorce'}, {'month_name': 'February', 'year': '2014', 'query_count': '23', 'query_text': 'marriage license'}, {'month_name': 'February', 'year': '2014', 'query_count': '23', 'query_text': 'parks'}, {'month_name': 'February', 'year': '2014', 'query_count': '22', 'query_text': 'noise'}, {'month_name': 'February', 'year': '2014', 'query_count': '22', 'query_text': 'recycling'}, {'month_name': 'February', 'year': '2014', 'query_count': '22', 'query_text': 'Animal control'}, {'month_name': 'February', 'year': '2014', 'query_count': '22', 'query_text': 'birth certificate'}, {'month_name': 'February', 'year': '2014', 'query_count': '22', 'query_text': 'Electrical Contractors'}, {'month_name': 'February', 'year': '2014', 'query_count': '21', 'query_text': 'traffic incident'}, {'month_name': 'February', 'year': '2014', 'query_count': '21', 'query_text': 'notary application'}, {'month_name': 'February', 'year': '2014', 'query_count': '21', 'query_text': 'trash'}, {'month_name': 'February', 'year': '2014', 'query_count': '21', 'query_text': 'building permits'}, {'month_name': 'February', 'year': '2014', 'query_count': '21', 'query_text': 'iprocurement'}, {'month_name': 'February', 'year': '2014', 'query_count': '21', 'query_text': 'arrest'}, {'month_name': 'February', 'year': '2014', 'query_count': '21', 'query_text': 'planning commission'}, {'month_name': 'February', 'year': '2014', 'query_count': '21', 'query_text': 'arrests'}, {'month_name': 'February', 'year': '2014', 'query_count': '21', 'query_text': 'Police Operations Assistant 1'}, {'month_name': 'February', 'year': '2014', 'query_count': '20', 'query_text': 'traffic school'}, {'month_name': 'February', 'year': '2014', 'query_count': '20', 'query_text': 'EBID'}, {'month_name': 'February', 'year': '2014', 'query_count': '20', 'query_text': 'pay property tax'}, {'month_name': 'February', 'year': '2014', 'query_count': '20', 'query_text': 'benefits'}, {'month_name': 'February', 'year': '2014', 'query_count': '20', 'query_text': 'finance'}, {'month_name': 'February', 'year': '2014', 'query_count': '20', 'query_text': 'recycle'}, {'month_name': 'February', 'year': '2014', 'query_count': '20', 'query_text': 'web pro'}, {'month_name': 'February', 'year': '2014', 'query_count': '20', 'query_text': \"sheriff's department\"}, {'month_name': 'February', 'year': '2014', 'query_count': '20', 'query_text': 'budget'}, {'month_name': 'February', 'year': '2014', 'query_count': '19', 'query_text': 'vehicle registration'}, {'month_name': 'February', 'year': '2014', 'query_count': '19', 'query_text': 'animal shelter'}, {'month_name': 'February', 'year': '2014', 'query_count': '19', 'query_text': 'procurement'}, {'month_name': 'February', 'year': '2014', 'query_count': '19', 'query_text': 'map'}, {'month_name': 'February', 'year': '2014', 'query_count': '19', 'query_text': 'Criminal history'}, {'month_name': 'February', 'year': '2014', 'query_count': '19', 'query_text': 'plat maps'}, {'month_name': 'February', 'year': '2014', 'query_count': '19', 'query_text': 'marriage'}, {'month_name': 'February', 'year': '2014', 'query_count': '18', 'query_text': 'harpeth valley utility district'}, {'month_name': 'February', 'year': '2014', 'query_count': '18', 'query_text': 'kiva'}, {'month_name': 'February', 'year': '2014', 'query_count': '18', 'query_text': 'police dept'}, {'month_name': 'February', 'year': '2014', 'query_count': '18', 'query_text': 'wic'}, {'month_name': 'February', 'year': '2014', 'query_count': '18', 'query_text': 'codes department'}, {'month_name': 'February', 'year': '2014', 'query_count': '18', 'query_text': 'metro 3'}, {'month_name': 'February', 'year': '2014', 'query_count': '18', 'query_text': 'taxes'}, {'month_name': 'February', 'year': '2014', 'query_count': '18', 'query_text': 'metro action'}, {'month_name': 'February', 'year': '2014', 'query_count': '18', 'query_text': 'death certificate'}, {'month_name': 'February', 'year': '2014', 'query_count': '18', 'query_text': 'police reports'}, {'month_name': 'February', 'year': '2014', 'query_count': '17', 'query_text': 'chickens'}, {'month_name': 'February', 'year': '2014', 'query_count': '17', 'query_text': 'mccabe'}, {'month_name': 'February', 'year': '2014', 'query_count': '17', 'query_text': 'incomplete infrastructure'}, {'month_name': 'February', 'year': '2014', 'query_count': '17', 'query_text': 'demolition permits'}, {'month_name': 'February', 'year': '2014', 'query_count': '17', 'query_text': 'isupplier'}, {'month_name': 'February', 'year': '2014', 'query_count': '17', 'query_text': 'Fire Marshal Department'}, {'month_name': 'February', 'year': '2014', 'query_count': '17', 'query_text': 'Property taxes'}, {'month_name': 'February', 'year': '2014', 'query_count': '16', 'query_text': 'michael sullivan'}, {'month_name': 'February', 'year': '2014', 'query_count': '16', 'query_text': 'crime map'}, {'month_name': 'February', 'year': '2014', 'query_count': '16', 'query_text': 'Parthenon'}, {'month_name': 'February', 'year': '2014', 'query_count': '16', 'query_text': 'pay scale'}, {'month_name': 'February', 'year': '2014', 'query_count': '16', 'query_text': 'traffic accidents'}, {'month_name': 'February', 'year': '2014', 'query_count': '16', 'query_text': 'stormwater'}, {'month_name': 'February', 'year': '2014', 'query_count': '16', 'query_text': 'Employment'}, {'month_name': 'February', 'year': '2014', 'query_count': '16', 'query_text': 'metro water services'}, {'month_name': 'February', 'year': '2014', 'query_count': '16', 'query_text': 'retirement'}, {'month_name': 'February', 'year': '2014', 'query_count': '16', 'query_text': 'benefit board'}, {'month_name': 'February', 'year': '2014', 'query_count': '16', 'query_text': 'health department'}, {'month_name': 'February', 'year': '2014', 'query_count': '16', 'query_text': 'zoning map'}, {'month_name': 'February', 'year': '2014', 'query_count': '16', 'query_text': 'daily arrest'}, {'month_name': 'February', 'year': '2014', 'query_count': '16', 'query_text': 'jobs openings'}, {'month_name': 'February', 'year': '2014', 'query_count': '15', 'query_text': 'ice skating'}, {'month_name': 'February', 'year': '2014', 'query_count': '15', 'query_text': 'brush pickup'}, {'month_name': 'February', 'year': '2014', 'query_count': '15', 'query_text': 'circuit court'}, {'month_name': 'February', 'year': '2014', 'query_count': '15', 'query_text': 'Metropolitan sports authority rfp'}, {'month_name': 'February', 'year': '2014', 'query_count': '15', 'query_text': 'job'}, {'month_name': 'February', 'year': '2014', 'query_count': '15', 'query_text': 'sign regulations'}, {'month_name': 'February', 'year': '2014', 'query_count': '15', 'query_text': 'fingerprinting'}, {'month_name': 'February', 'year': '2014', 'query_count': '15', 'query_text': 'nashville court dockets'}, {'month_name': 'February', 'year': '2014', 'query_count': '15', 'query_text': 'gay'}, {'month_name': 'February', 'year': '2014', 'query_count': '15', 'query_text': 'Property assessor'}, {'month_name': 'February', 'year': '2014', 'query_count': '15', 'query_text': 'Criminal court clerk'}, {'month_name': 'February', 'year': '2014', 'query_count': '15', 'query_text': 'mug shots'}, {'month_name': 'February', 'year': '2014', 'query_count': '15', 'query_text': '2008 hiring freeze'}, {'month_name': 'February', 'year': '2014', 'query_count': '15', 'query_text': 'Traffic'}, {'month_name': 'February', 'year': '2014', 'query_count': '15', 'query_text': 'Circuit Court Clerk'}, {'month_name': 'February', 'year': '2014', 'query_count': '15', 'query_text': 'central business improvement district'}, {'month_name': 'February', 'year': '2014', 'query_count': '15', 'query_text': 'criminal background'}, {'month_name': 'February', 'year': '2014', 'query_count': '14', 'query_text': 'Meth'}, {'month_name': 'February', 'year': '2014', 'query_count': '14', 'query_text': 'court'}, {'month_name': 'February', 'year': '2014', 'query_count': '14', 'query_text': 'building permit'}, {'month_name': 'February', 'year': '2014', 'query_count': '14', 'query_text': 'notary'}, {'month_name': 'February', 'year': '2014', 'query_count': '14', 'query_text': 'Trustee'}, {'month_name': 'February', 'year': '2014', 'query_count': '14', 'query_text': 'ESS'}, {'month_name': 'February', 'year': '2014', 'query_count': '14', 'query_text': 'temporary work zones'}, {'month_name': 'February', 'year': '2014', 'query_count': '14', 'query_text': 'election'}, {'month_name': 'February', 'year': '2014', 'query_count': '14', 'query_text': 'real property taxes'}, {'month_name': 'February', 'year': '2014', 'query_count': '14', 'query_text': 'Michael sullivan'}, {'month_name': 'February', 'year': '2014', 'query_count': '14', 'query_text': 'police vehicle accidents 2013'}, {'month_name': 'February', 'year': '2014', 'query_count': '14', 'query_text': 'traffic court'}, {'month_name': 'February', 'year': '2014', 'query_count': '14', 'query_text': 'board of health meeting'}, {'month_name': 'February', 'year': '2014', 'query_count': '14', 'query_text': 'willis'}, {'month_name': 'February', 'year': '2014', 'query_count': '14', 'query_text': 'property map'}, {'month_name': 'February', 'year': '2014', 'query_count': '14', 'query_text': 'Inmate search'}, {'month_name': 'February', 'year': '2014', 'query_count': '14', 'query_text': 'rfp'}, {'month_name': 'February', 'year': '2014', 'query_count': '14', 'query_text': 'its'}, {'month_name': 'February', 'year': '2014', 'query_count': '14', 'query_text': 'drivers license'}, {'month_name': 'February', 'year': '2014', 'query_count': '13', 'query_text': 'auctions'}, {'month_name': 'February', 'year': '2014', 'query_count': '13', 'query_text': 'online property maps'}, {'month_name': 'February', 'year': '2014', 'query_count': '13', 'query_text': 'fort nashborough'}, {'month_name': 'February', 'year': '2014', 'query_count': '13', 'query_text': 'WEB PRO'}, {'month_name': 'February', 'year': '2014', 'query_count': '13', 'query_text': 'GIS'}, {'month_name': 'February', 'year': '2014', 'query_count': '13', 'query_text': 'Surplus'}, {'month_name': 'February', 'year': '2014', 'query_count': '13', 'query_text': 'assessor of property'}, {'month_name': 'February', 'year': '2014', 'query_count': '13', 'query_text': 'Ice skating'}, {'month_name': 'February', 'year': '2014', 'query_count': '13', 'query_text': 'records correction'}, {'month_name': 'February', 'year': '2014', 'query_count': '13', 'query_text': 'MDHA'}, {'month_name': 'February', 'year': '2014', 'query_count': '13', 'query_text': 'Outstanding Warrants'}, {'month_name': 'February', 'year': '2014', 'query_count': '13', 'query_text': 'emissions'}, {'month_name': 'February', 'year': '2014', 'query_count': '13', 'query_text': 'easement'}, {'month_name': 'February', 'year': '2014', 'query_count': '13', 'query_text': 'bl2003-1386'}, {'month_name': 'February', 'year': '2014', 'query_count': '13', 'query_text': 'phone number'}, {'month_name': 'February', 'year': '2014', 'query_count': '13', 'query_text': 'job openings'}, {'month_name': 'February', 'year': '2014', 'query_count': '13', 'query_text': 'police report'}, {'month_name': 'February', 'year': '2014', 'query_count': '13', 'query_text': 'rabies'}, {'month_name': 'February', 'year': '2014', 'query_count': '13', 'query_text': 'us community credit union'}, {'month_name': 'February', 'year': '2014', 'query_count': '13', 'query_text': 'metro holidays'}, {'month_name': 'February', 'year': '2014', 'query_count': '13', 'query_text': 'curling'}, {'month_name': 'February', 'year': '2014', 'query_count': '13', 'query_text': 'property lien'}, {'month_name': 'February', 'year': '2014', 'query_count': '13', 'query_text': 'schools'}, {'month_name': 'February', 'year': '2014', 'query_count': '12', 'query_text': 'press credentials'}, {'month_name': 'February', 'year': '2014', 'query_count': '12', 'query_text': 'chicken'}, {'month_name': 'February', 'year': '2014', 'query_count': '12', 'query_text': 'tax'}, {'month_name': 'February', 'year': '2014', 'query_count': '12', 'query_text': 'marathon music works'}, {'month_name': 'February', 'year': '2014', 'query_count': '12', 'query_text': 'directory'}, {'month_name': 'February', 'year': '2014', 'query_count': '12', 'query_text': 'circuit clerk'}, {'month_name': 'February', 'year': '2014', 'query_count': '12', 'query_text': 'gulch'}, {'month_name': 'February', 'year': '2014', 'query_count': '12', 'query_text': 'Property Maps'}, {'month_name': 'February', 'year': '2014', 'query_count': '12', 'query_text': 'Criminal court'}, {'month_name': 'February', 'year': '2014', 'query_count': '12', 'query_text': 'theft'}, {'month_name': 'February', 'year': '2014', 'query_count': '12', 'query_text': 'sinkholes'}, {'month_name': 'February', 'year': '2014', 'query_count': '12', 'query_text': '\"HOME BUSINESS\"'}, {'month_name': 'February', 'year': '2014', 'query_count': '12', 'query_text': 'Birth certificate'}, {'month_name': 'February', 'year': '2014', 'query_count': '12', 'query_text': 'Insulation'}, {'month_name': 'April', 'year': '2014', 'query_count': '10', 'query_text': 'mnps'}, {'month_name': 'February', 'year': '2014', 'query_count': '12', 'query_text': 'hr'}, {'month_name': 'February', 'year': '2014', 'query_count': '12', 'query_text': 'non conforming use hearings'}, {'month_name': 'February', 'year': '2014', 'query_count': '12', 'query_text': 'metro schools'}, {'month_name': 'February', 'year': '2014', 'query_count': '12', 'query_text': 'sulphur dell'}, {'month_name': 'February', 'year': '2014', 'query_count': '12', 'query_text': 'property assesor'}, {'month_name': 'February', 'year': '2014', 'query_count': '12', 'query_text': 'application'}, {'month_name': 'February', 'year': '2014', 'query_count': '12', 'query_text': 'sign permit'}, {'month_name': 'February', 'year': '2014', 'query_count': '12', 'query_text': 'email'}, {'month_name': 'February', 'year': '2014', 'query_count': '12', 'query_text': 'traffic and parking'}, {'month_name': 'February', 'year': '2014', 'query_count': '12', 'query_text': 'beer board'}, {'month_name': 'February', 'year': '2014', 'query_count': '12', 'query_text': 'recent booking'}, {'month_name': 'February', 'year': '2014', 'query_count': '12', 'query_text': 'septic'}, {'month_name': 'February', 'year': '2014', 'query_count': '11', 'query_text': 'weather'}, {'month_name': 'February', 'year': '2014', 'query_count': '11', 'query_text': 'Property tax'}, {'month_name': 'February', 'year': '2014', 'query_count': '11', 'query_text': 'authorizing resolution general obligation bonds'}, {'month_name': 'February', 'year': '2014', 'query_count': '11', 'query_text': 'traffic ticket'}, {'month_name': 'February', 'year': '2014', 'query_count': '11', 'query_text': 'property records'}, {'month_name': 'February', 'year': '2014', 'query_count': '11', 'query_text': 'traffic violations bureau'}, {'month_name': 'February', 'year': '2014', 'query_count': '11', 'query_text': \"bradley county sheriff's\"}, {'month_name': 'February', 'year': '2014', 'query_count': '11', 'query_text': 'RFP'}, {'month_name': 'February', 'year': '2014', 'query_count': '11', 'query_text': 'zoning codes'}, {'month_name': 'February', 'year': '2014', 'query_count': '11', 'query_text': 'unemployment'}, {'month_name': 'February', 'year': '2014', 'query_count': '11', 'query_text': 'warehouses'}, {'month_name': 'February', 'year': '2014', 'query_count': '11', 'query_text': 'metro code'}, {'month_name': 'February', 'year': '2014', 'query_count': '11', 'query_text': 'fire department'}, {'month_name': 'February', 'year': '2014', 'query_count': '11', 'query_text': 'contact'}, {'month_name': 'February', 'year': '2014', 'query_count': '11', 'query_text': 'correctional officer'}, {'month_name': 'February', 'year': '2014', 'query_count': '11', 'query_text': 'centennial park'}, {'month_name': 'February', 'year': '2014', 'query_count': '11', 'query_text': 'lakewood water project'}, {'month_name': 'February', 'year': '2014', 'query_count': '11', 'query_text': 'property-taxes'}, {'month_name': 'February', 'year': '2014', 'query_count': '11', 'query_text': 'employment opportunities'}, {'month_name': 'February', 'year': '2014', 'query_count': '11', 'query_text': 'inmate information'}, {'month_name': 'February', 'year': '2014', 'query_count': '11', 'query_text': 'urban zoning overlay'}, {'month_name': 'February', 'year': '2014', 'query_count': '11', 'query_text': 'fort negley'}, {'month_name': 'February', 'year': '2014', 'query_count': '11', 'query_text': 'warrant search'}, {'month_name': 'February', 'year': '2014', 'query_count': '11', 'query_text': 'Property'}, {'month_name': 'February', 'year': '2014', 'query_count': '11', 'query_text': 'application status'}, {'month_name': 'February', 'year': '2014', 'query_count': '11', 'query_text': 'truancy'}, {'month_name': 'February', 'year': '2014', 'query_count': '11', 'query_text': 'population lentz public health serves'}, {'month_name': 'February', 'year': '2014', 'query_count': '11', 'query_text': 'VANDALISM'}, {'month_name': 'February', 'year': '2014', 'query_count': '11', 'query_text': 'shawn herman'}, {'month_name': 'February', 'year': '2014', 'query_count': '11', 'query_text': 'city ordinances'}, {'month_name': 'February', 'year': '2014', 'query_count': '11', 'query_text': 'community education'}, {'month_name': 'February', 'year': '2014', 'query_count': '11', 'query_text': 'tax schedule b'}, {'month_name': 'February', 'year': '2014', 'query_count': '11', 'query_text': 'building codes'}, {'month_name': 'February', 'year': '2014', 'query_count': '10', 'query_text': 'baseball agreement'}, {'month_name': 'February', 'year': '2014', 'query_count': '10', 'query_text': 'Part-time employment'}, {'month_name': 'February', 'year': '2014', 'query_count': '10', 'query_text': 'Sgt Tripp'}, {'month_name': 'February', 'year': '2014', 'query_count': '10', 'query_text': 'metro parks'}, {'month_name': 'February', 'year': '2014', 'query_count': '10', 'query_text': 'Codes'}, {'month_name': 'February', 'year': '2014', 'query_count': '10', 'query_text': 'traffic tickets'}, {'month_name': 'February', 'year': '2014', 'query_count': '10', 'query_text': 'ordinance bl2004-122'}, {'month_name': 'February', 'year': '2014', 'query_count': '10', 'query_text': 'zoning maps'}, {'month_name': 'February', 'year': '2014', 'query_count': '10', 'query_text': 'notary public'}, {'month_name': 'February', 'year': '2014', 'query_count': '10', 'query_text': 'cumberland park'}, {'month_name': 'February', 'year': '2014', 'query_count': '10', 'query_text': 'school'}, {'month_name': 'February', 'year': '2014', 'query_count': '10', 'query_text': 'Permit June 24, 2013'}, {'month_name': 'February', 'year': '2014', 'query_count': '10', 'query_text': 'STANDARD INSURANCE POLICY'}, {'month_name': 'February', 'year': '2014', 'query_count': '10', 'query_text': 'alarm registration'}, {'month_name': 'February', 'year': '2014', 'query_count': '10', 'query_text': 'sheriff department'}, {'month_name': 'February', 'year': '2014', 'query_count': '10', 'query_text': 'bid'}, {'month_name': 'February', 'year': '2014', 'query_count': '10', 'query_text': 'Coleman park'}, {'month_name': 'February', 'year': '2014', 'query_count': '10', 'query_text': 'employee service module'}, {'month_name': 'February', 'year': '2014', 'query_count': '10', 'query_text': 'sign permits'}, {'month_name': 'February', 'year': '2014', 'query_count': '10', 'query_text': 'business license application'}, {'month_name': 'February', 'year': '2014', 'query_count': '10', 'query_text': 'Warrants'}, {'month_name': 'February', 'year': '2014', 'query_count': '10', 'query_text': 'comprehensive annual financial report'}, {'month_name': 'February', 'year': '2014', 'query_count': '10', 'query_text': 'recent arrests'}, {'month_name': 'February', 'year': '2014', 'query_count': '10', 'query_text': 'dmv'}, {'month_name': 'February', 'year': '2014', 'query_count': '10', 'query_text': 'Zoning'}, {'month_name': 'February', 'year': '2014', 'query_count': '10', 'query_text': 'Michael Williams'}, {'month_name': 'February', 'year': '2014', 'query_count': '10', 'query_text': 'business tax license'}, {'month_name': 'February', 'year': '2014', 'query_count': '10', 'query_text': 'CAFR'}, {'month_name': 'February', 'year': '2014', 'query_count': '10', 'query_text': 'riverfront park'}, {'month_name': 'February', 'year': '2014', 'query_count': '10', 'query_text': '2010 flood map'}, {'month_name': 'February', 'year': '2014', 'query_count': '10', 'query_text': 'traffic accident reports'}, {'month_name': 'February', 'year': '2014', 'query_count': '10', 'query_text': 'metro trustee'}, {'month_name': 'February', 'year': '2014', 'query_count': '10', 'query_text': 'storm water'}, {'month_name': 'February', 'year': '2014', 'query_count': '10', 'query_text': 'payroll'}, {'month_name': 'February', 'year': '2014', 'query_count': '10', 'query_text': 'construction bids'}, {'month_name': 'February', 'year': '2014', 'query_count': '10', 'query_text': 'animal'}, {'month_name': 'February', 'year': '2014', 'query_count': '10', 'query_text': 'fmla'}, {'month_name': 'February', 'year': '2014', 'query_count': '10', 'query_text': 'home fish species'}, {'month_name': 'February', 'year': '2014', 'query_count': '10', 'query_text': 'address'}, {'month_name': 'February', 'year': '2014', 'query_count': '10', 'query_text': 'Employee self service'}, {'month_name': 'February', 'year': '2014', 'query_count': '9', 'query_text': 'legal'}, {'month_name': 'February', 'year': '2014', 'query_count': '9', 'query_text': 'head start'}, {'month_name': 'February', 'year': '2014', 'query_count': '9', 'query_text': 'Property maps'}, {'month_name': 'February', 'year': '2014', 'query_count': '9', 'query_text': 'booking'}, {'month_name': 'February', 'year': '2014', 'query_count': '9', 'query_text': 'delayed accident report'}, {'month_name': 'February', 'year': '2014', 'query_count': '9', 'query_text': 'how to get press credentials'}, {'month_name': 'February', 'year': '2014', 'query_count': '9', 'query_text': 'missing persons'}, {'month_name': 'February', 'year': '2014', 'query_count': '9', 'query_text': 'fleet management'}, {'month_name': 'February', 'year': '2014', 'query_count': '9', 'query_text': 'criminal'}, {'month_name': 'February', 'year': '2014', 'query_count': '9', 'query_text': 'quitclaim deed'}, {'month_name': 'February', 'year': '2014', 'query_count': '9', 'query_text': 'mail exchange'}, {'month_name': 'February', 'year': '2014', 'query_count': '9', 'query_text': 'Animal shelter'}, {'month_name': 'February', 'year': '2014', 'query_count': '9', 'query_text': 'public record worker pay'}, {'month_name': 'February', 'year': '2014', 'query_count': '9', 'query_text': 'cafr'}, {'month_name': 'February', 'year': '2014', 'query_count': '9', 'query_text': 'grants'}, {'month_name': 'February', 'year': '2014', 'query_count': '9', 'query_text': 'calendar'}, {'month_name': 'February', 'year': '2014', 'query_count': '9', 'query_text': 'prostitution arrests'}, {'month_name': 'February', 'year': '2014', 'query_count': '9', 'query_text': 'Proposal No. 2002UD-001U-10'}, {'month_name': 'February', 'year': '2014', 'query_count': '9', 'query_text': 'technology consulting services'}, {'month_name': 'February', 'year': '2014', 'query_count': '9', 'query_text': 'building permit application'}, {'month_name': 'February', 'year': '2014', 'query_count': '9', 'query_text': 'signage'}, {'month_name': 'February', 'year': '2014', 'query_count': '9', 'query_text': 'grease traps'}, {'month_name': 'February', 'year': '2014', 'query_count': '9', 'query_text': 'Inside metro'}, {'month_name': 'February', 'year': '2014', 'query_count': '9', 'query_text': 'license'}, {'month_name': 'February', 'year': '2014', 'query_count': '9', 'query_text': 'flex time'}, {'month_name': 'February', 'year': '2014', 'query_count': '9', 'query_text': 'private property accident report'}, {'month_name': 'February', 'year': '2014', 'query_count': '9', 'query_text': 'chancery court'}, {'month_name': 'February', 'year': '2014', 'query_count': '9', 'query_text': 'traffic accident'}, {'month_name': 'February', 'year': '2014', 'query_count': '9', 'query_text': 'Fire Marshal'}, {'month_name': 'February', 'year': '2014', 'query_count': '9', 'query_text': 'e bid'}, {'month_name': 'February', 'year': '2014', 'query_count': '9', 'query_text': 'Centennial park'}, {'month_name': 'February', 'year': '2014', 'query_count': '9', 'query_text': 'dbe'}, {'month_name': 'February', 'year': '2014', 'query_count': '9', 'query_text': 'maps for water and sewer lines'}, {'month_name': 'February', 'year': '2014', 'query_count': '9', 'query_text': 'TAG RENEWAL ONLINE'}, {'month_name': 'February', 'year': '2014', 'query_count': '9', 'query_text': 'chicken permit'}, {'month_name': 'February', 'year': '2014', 'query_count': '9', 'query_text': 'pension'}, {'month_name': 'February', 'year': '2014', 'query_count': '9', 'query_text': 'percy warner park'}, {'month_name': 'February', 'year': '2014', 'query_count': '9', 'query_text': 'quit claim deed'}, {'month_name': 'February', 'year': '2014', 'query_count': '9', 'query_text': 'notary public application'}, {'month_name': 'February', 'year': '2014', 'query_count': '9', 'query_text': 'civil service commission'}, {'month_name': 'February', 'year': '2014', 'query_count': '9', 'query_text': 'e-bid'}, {'month_name': 'February', 'year': '2014', 'query_count': '9', 'query_text': 'Recycling'}, {'month_name': 'February', 'year': '2014', 'query_count': '9', 'query_text': 'robin'}, {'month_name': 'February', 'year': '2014', 'query_count': '9', 'query_text': 'daily permits'}, {'month_name': 'February', 'year': '2014', 'query_count': '9', 'query_text': 'golf'}, {'month_name': 'February', 'year': '2014', 'query_count': '9', 'query_text': 'Fire alarm'}, {'month_name': 'February', 'year': '2014', 'query_count': '9', 'query_text': 'surplus'}, {'month_name': 'February', 'year': '2014', 'query_count': '9', 'query_text': 'tax assessors office'}, {'month_name': 'February', 'year': '2014', 'query_count': '9', 'query_text': 'APPLICATION FOR CHANGE OF NAME'}, {'month_name': 'February', 'year': '2014', 'query_count': '8', 'query_text': 'record'}, {'month_name': 'February', 'year': '2014', 'query_count': '8', 'query_text': 'landlord registration'}, {'month_name': 'February', 'year': '2014', 'query_count': '8', 'query_text': 'lookup license'}, {'month_name': 'February', 'year': '2014', 'query_count': '8', 'query_text': 'holiday'}, {'month_name': 'February', 'year': '2014', 'query_count': '8', 'query_text': 'sidewalks'}, {'month_name': 'February', 'year': '2014', 'query_count': '8', 'query_text': 'percent for art'}, {'month_name': 'February', 'year': '2014', 'query_count': '8', 'query_text': 'planning department'}, {'month_name': 'February', 'year': '2014', 'query_count': '8', 'query_text': 'hiring freeze'}, {'month_name': 'February', 'year': '2014', 'query_count': '8', 'query_text': 'jose mendez'}, {'month_name': 'February', 'year': '2014', 'query_count': '8', 'query_text': 'Inside Metro'}, {'month_name': 'February', 'year': '2014', 'query_count': '8', 'query_text': 'Sidewalk encroachment'}, {'month_name': 'February', 'year': '2014', 'query_count': '8', 'query_text': 'permit application'}, {'month_name': 'February', 'year': '2014', 'query_count': '8', 'query_text': 'impound lot'}, {'month_name': 'February', 'year': '2014', 'query_count': '8', 'query_text': 'holiday schedule'}, {'month_name': 'February', 'year': '2014', 'query_count': '8', 'query_text': 'duane phillips'}, {'month_name': 'February', 'year': '2014', 'query_count': '8', 'query_text': 'metro employees, general hospital'}, {'month_name': 'February', 'year': '2014', 'query_count': '8', 'query_text': 'leash law'}, {'month_name': 'February', 'year': '2014', 'query_count': '8', 'query_text': 'Police department'}, {'month_name': 'February', 'year': '2014', 'query_count': '8', 'query_text': 'civil court'}, {'month_name': 'February', 'year': '2014', 'query_count': '8', 'query_text': 'setback'}, {'month_name': 'February', 'year': '2014', 'query_count': '8', 'query_text': 'fire marshall inspection'}, {'month_name': 'February', 'year': '2014', 'query_count': '8', 'query_text': 'urban services district'}, {'month_name': 'February', 'year': '2014', 'query_count': '8', 'query_text': 'livia smith'}, {'month_name': 'February', 'year': '2014', 'query_count': '8', 'query_text': 'sleeping'}, {'month_name': 'February', 'year': '2014', 'query_count': '8', 'query_text': 'joseph belew'}, {'month_name': 'February', 'year': '2014', 'query_count': '8', 'query_text': 'metro school'}, {'month_name': 'February', 'year': '2014', 'query_count': '8', 'query_text': 'approving the transfer of certain properties'}, {'month_name': 'February', 'year': '2014', 'query_count': '8', 'query_text': 'metro pay plan'}, {'month_name': 'February', 'year': '2014', 'query_count': '8', 'query_text': 'emissions testing'}, {'month_name': 'February', 'year': '2014', 'query_count': '8', 'query_text': 'crime lab'}, {'month_name': 'February', 'year': '2014', 'query_count': '8', 'query_text': 'sign in'}, {'month_name': 'February', 'year': '2014', 'query_count': '8', 'query_text': 'permit'}, {'month_name': 'February', 'year': '2014', 'query_count': '8', 'query_text': 'sidewalk repair'}, {'month_name': 'February', 'year': '2014', 'query_count': '8', 'query_text': 'U'}, {'month_name': 'February', 'year': '2014', 'query_count': '8', 'query_text': 'historic'}, {'month_name': 'February', 'year': '2014', 'query_count': '8', 'query_text': 'warrant'}, {'month_name': 'February', 'year': '2014', 'query_count': '8', 'query_text': 'nashville clerk'}, {'month_name': 'February', 'year': '2014', 'query_count': '8', 'query_text': 'career'}, {'month_name': 'February', 'year': '2014', 'query_count': '8', 'query_text': 'car auctions'}, {'month_name': 'February', 'year': '2014', 'query_count': '8', 'query_text': 'food stamps'}, {'month_name': 'February', 'year': '2014', 'query_count': '8', 'query_text': 'google.com'}, {'month_name': 'February', 'year': '2014', 'query_count': '8', 'query_text': 'zoning code'}, {'month_name': 'February', 'year': '2014', 'query_count': '8', 'query_text': 'mobile'}, {'month_name': 'February', 'year': '2014', 'query_count': '8', 'query_text': 'criminal record'}, {'month_name': 'February', 'year': '2014', 'query_count': '8', 'query_text': 'history'}, {'month_name': 'February', 'year': '2014', 'query_count': '8', 'query_text': 'personal history statement'}, {'month_name': 'February', 'year': '2014', 'query_count': '8', 'query_text': 'amp'}, {'month_name': 'February', 'year': '2014', 'query_count': '8', 'query_text': 'voter registration'}, {'month_name': 'February', 'year': '2014', 'query_count': '8', 'query_text': 'google fiber'}, {'month_name': 'February', 'year': '2014', 'query_count': '8', 'query_text': 'investment committee minutes'}, {'month_name': 'February', 'year': '2014', 'query_count': '8', 'query_text': 'metro council'}, {'month_name': 'February', 'year': '2014', 'query_count': '8', 'query_text': 'horseback riding'}, {'month_name': 'February', 'year': '2014', 'query_count': '8', 'query_text': 'gun'}, {'month_name': 'February', 'year': '2014', 'query_count': '8', 'query_text': 'death certificates'}, {'month_name': 'February', 'year': '2014', 'query_count': '8', 'query_text': 'name change'}, {'month_name': 'February', 'year': '2014', 'query_count': '8', 'query_text': 'improve security managment'}, {'month_name': 'February', 'year': '2014', 'query_count': '8', 'query_text': 'Water'}, {'month_name': 'February', 'year': '2014', 'query_count': '8', 'query_text': 'flood map'}, {'month_name': 'February', 'year': '2014', 'query_count': '8', 'query_text': 'synthetic'}, {'month_name': 'February', 'year': '2014', 'query_count': '8', 'query_text': 'driver accident report form'}, {'month_name': 'February', 'year': '2014', 'query_count': '8', 'query_text': 'salaries'}, {'month_name': 'February', 'year': '2014', 'query_count': '8', 'query_text': \"sheriff's office\"}, {'month_name': 'February', 'year': '2014', 'query_count': '8', 'query_text': 'ess.nashville.gov'}, {'month_name': 'February', 'year': '2014', 'query_count': '8', 'query_text': 'court clerk'}, {'month_name': 'February', 'year': '2014', 'query_count': '8', 'query_text': 'jury duty'}, {'month_name': 'February', 'year': '2014', 'query_count': '8', 'query_text': 'tax exempt'}, {'month_name': 'February', 'year': '2014', 'query_count': '8', 'query_text': 'ebid nashville'}, {'month_name': 'February', 'year': '2014', 'query_count': '8', 'query_text': 'pawn'}, {'month_name': 'February', 'year': '2014', 'query_count': '8', 'query_text': 'dog license'}, {'month_name': 'February', 'year': '2014', 'query_count': '8', 'query_text': 'vital records'}, {'month_name': 'February', 'year': '2014', 'query_count': '8', 'query_text': 'rabies clinic'}, {'month_name': 'February', 'year': '2014', 'query_count': '8', 'query_text': 'fire'}, {'month_name': 'February', 'year': '2014', 'query_count': '8', 'query_text': 'quitclaim'}, {'month_name': 'February', 'year': '2014', 'query_count': '8', 'query_text': 'Metro water'}, {'month_name': 'February', 'year': '2014', 'query_count': '8', 'query_text': 'gis mapping'}, {'month_name': 'February', 'year': '2014', 'query_count': '8', 'query_text': 'vehicle age'}, {'month_name': 'February', 'year': '2014', 'query_count': '8', 'query_text': 'google maps'}, {'month_name': 'February', 'year': '2014', 'query_count': '8', 'query_text': 'No knock'}, {'month_name': 'February', 'year': '2014', 'query_count': '8', 'query_text': 'policy manual'}, {'month_name': 'February', 'year': '2014', 'query_count': '8', 'query_text': 'records'}, {'month_name': 'February', 'year': '2014', 'query_count': '8', 'query_text': 'flood'}, {'month_name': 'February', 'year': '2014', 'query_count': '7', 'query_text': 'Christopher key'}, {'month_name': 'February', 'year': '2014', 'query_count': '7', 'query_text': 'birth certificates'}, {'month_name': 'February', 'year': '2014', 'query_count': '7', 'query_text': 'nashvitality'}, {'month_name': 'February', 'year': '2014', 'query_count': '7', 'query_text': 'development tracker'}, {'month_name': 'February', 'year': '2014', 'query_count': '7', 'query_text': 'microsoft office'}, {'month_name': 'February', 'year': '2014', 'query_count': '7', 'query_text': 'Accident'}, {'month_name': 'February', 'year': '2014', 'query_count': '7', 'query_text': 'omni hotel'}, {'month_name': 'February', 'year': '2014', 'query_count': '7', 'query_text': 'tax schedule b 2014'}, {'month_name': 'February', 'year': '2014', 'query_count': '7', 'query_text': 'sportsplex'}, {'month_name': 'February', 'year': '2014', 'query_count': '7', 'query_text': 'mayor executive orders'}, {'month_name': 'February', 'year': '2014', 'query_count': '7', 'query_text': 'Auction'}, {'month_name': 'February', 'year': '2014', 'query_count': '7', 'query_text': 'case'}, {'month_name': 'February', 'year': '2014', 'query_count': '7', 'query_text': 'knoxville'}, {'month_name': 'February', 'year': '2014', 'query_count': '7', 'query_text': 'daily arrest list'}, {'month_name': 'February', 'year': '2014', 'query_count': '7', 'query_text': 'office support specialist'}, {'month_name': 'February', 'year': '2014', 'query_count': '7', 'query_text': 'electrical contractor requirements'}, {'month_name': 'February', 'year': '2014', 'query_count': '7', 'query_text': 'wedding'}, {'month_name': 'February', 'year': '2014', 'query_count': '7', 'query_text': 'job opportunities'}, {'month_name': 'February', 'year': '2014', 'query_count': '7', 'query_text': 'wanted'}, {'month_name': 'February', 'year': '2014', 'query_count': '7', 'query_text': 'robert ezell'}, {'month_name': 'February', 'year': '2014', 'query_count': '7', 'query_text': 'parks and recreation'}, {'month_name': 'February', 'year': '2014', 'query_count': '7', 'query_text': 'zoning designations'}, {'month_name': 'February', 'year': '2014', 'query_count': '7', 'query_text': 'order of protection'}, {'month_name': 'February', 'year': '2014', 'query_count': '7', 'query_text': 'election petition'}, {'month_name': 'February', 'year': '2014', 'query_count': '7', 'query_text': 'Careers'}, {'month_name': 'February', 'year': '2014', 'query_count': '7', 'query_text': 'traffic violations'}, {'month_name': 'February', 'year': '2014', 'query_count': '7', 'query_text': 'Police media release'}, {'month_name': 'February', 'year': '2014', 'query_count': '7', 'query_text': 'Accident reports'}, {'month_name': 'February', 'year': '2014', 'query_count': '7', 'query_text': 'public records request'}, {'month_name': 'February', 'year': '2014', 'query_count': '7', 'query_text': 'police surveillance cameras'}, {'month_name': 'February', 'year': '2014', 'query_count': '7', 'query_text': 'metro jobs'}, {'month_name': 'February', 'year': '2014', 'query_count': '7', 'query_text': 'insurance'}, {'month_name': 'February', 'year': '2014', 'query_count': '7', 'query_text': 'burn permits'}, {'month_name': 'February', 'year': '2014', 'query_count': '7', 'query_text': 'deed'}, {'month_name': 'February', 'year': '2014', 'query_count': '7', 'query_text': 'inclement weather policy for employees'}, {'month_name': 'February', 'year': '2014', 'query_count': '7', 'query_text': 'arts'}, {'month_name': 'February', 'year': '2014', 'query_count': '7', 'query_text': 'tax sale'}, {'month_name': 'February', 'year': '2014', 'query_count': '7', 'query_text': 'unitedway'}, {'month_name': 'February', 'year': '2014', 'query_count': '7', 'query_text': 'Anthony'}, {'month_name': 'February', 'year': '2014', 'query_count': '7', 'query_text': 'clerk'}, {'month_name': 'February', 'year': '2014', 'query_count': '7', 'query_text': 'electrical permit'}, {'month_name': 'February', 'year': '2014', 'query_count': '7', 'query_text': 'shelby park'}, {'month_name': 'February', 'year': '2014', 'query_count': '7', 'query_text': 'case 2014-21'}, {'month_name': 'February', 'year': '2014', 'query_count': '7', 'query_text': 'pay ticket'}, {'month_name': 'February', 'year': '2014', 'query_count': '7', 'query_text': 'bond'}, {'month_name': 'February', 'year': '2014', 'query_count': '7', 'query_text': 'pay taxes'}, {'month_name': 'February', 'year': '2014', 'query_count': '7', 'query_text': 'Accident report'}, {'month_name': 'February', 'year': '2014', 'query_count': '7', 'query_text': 'public record'}, {'month_name': 'February', 'year': '2014', 'query_count': '7', 'query_text': 'eap'}, {'month_name': 'February', 'year': '2014', 'query_count': '7', 'query_text': 'environmental court'}, {'month_name': 'February', 'year': '2014', 'query_count': '7', 'query_text': 'Convention Center Authority'}, {'month_name': 'February', 'year': '2014', 'query_count': '7', 'query_text': 'general sessions'}, {'month_name': 'February', 'year': '2014', 'query_count': '7', 'query_text': 'brush pick up'}, {'month_name': 'February', 'year': '2014', 'query_count': '7', 'query_text': 'sulpher dell'}, {'month_name': 'February', 'year': '2014', 'query_count': '7', 'query_text': 'sex offender office'}, {'month_name': 'February', 'year': '2014', 'query_count': '7', 'query_text': 'pay property taxes online'}, {'month_name': 'February', 'year': '2014', 'query_count': '7', 'query_text': 'community centers'}, {'month_name': 'February', 'year': '2014', 'query_count': '7', 'query_text': 'zoning appeals'}, {'month_name': 'February', 'year': '2014', 'query_count': '7', 'query_text': 'car auction'}, {'month_name': 'February', 'year': '2014', 'query_count': '7', 'query_text': 'business license information'}, {'month_name': 'February', 'year': '2014', 'query_count': '7', 'query_text': 'demographics'}, {'month_name': 'February', 'year': '2014', 'query_count': '7', 'query_text': 'report accident'}, {'month_name': 'February', 'year': '2014', 'query_count': '7', 'query_text': 'fire marshal'}, {'month_name': 'February', 'year': '2014', 'query_count': '7', 'query_text': 'pay stubs'}, {'month_name': 'February', 'year': '2014', 'query_count': '7', 'query_text': 'school lunch menu'}, {'month_name': 'February', 'year': '2014', 'query_count': '7', 'query_text': 'contractors permit bond'}, {'month_name': 'February', 'year': '2014', 'query_count': '7', 'query_text': 'media'}, {'month_name': 'February', 'year': '2014', 'query_count': '7', 'query_text': 'pay plan'}]\n"
     ]
    }
   ],
   "source": [
    "print(response.json())"
   ]
  },
  {
   "cell_type": "code",
   "execution_count": 7,
   "metadata": {},
   "outputs": [],
   "source": [
    "#pulls apart a dictionary and keeps a running total\n",
    "search_dict = {}\n",
    "for line in result:\n",
    "    count = int(line.get('query_count'))\n",
    "    text = line.get('query_text')\n",
    "    if text in search_dict:\n",
    "        search_dict[text] += count #searching for a key [text] then add an amount to existing amount for count, \n",
    "                                   #if its not there we create the key in the else statement\n",
    "    else:\n",
    "        search_dict[text] = count#create the key here\n",
    "#search_dict...a large amount"
   ]
  },
  {
   "cell_type": "code",
   "execution_count": 8,
   "metadata": {},
   "outputs": [
    {
     "data": {
      "text/html": [
       "<div>\n",
       "<style scoped>\n",
       "    .dataframe tbody tr th:only-of-type {\n",
       "        vertical-align: middle;\n",
       "    }\n",
       "\n",
       "    .dataframe tbody tr th {\n",
       "        vertical-align: top;\n",
       "    }\n",
       "\n",
       "    .dataframe thead th {\n",
       "        text-align: right;\n",
       "    }\n",
       "</style>\n",
       "<table border=\"1\" class=\"dataframe\">\n",
       "  <thead>\n",
       "    <tr style=\"text-align: right;\">\n",
       "      <th></th>\n",
       "      <th>term</th>\n",
       "      <th>text</th>\n",
       "    </tr>\n",
       "  </thead>\n",
       "  <tbody>\n",
       "    <tr>\n",
       "      <th>0</th>\n",
       "      <td>ebid</td>\n",
       "      <td>521</td>\n",
       "    </tr>\n",
       "    <tr>\n",
       "      <th>1</th>\n",
       "      <td>property maps</td>\n",
       "      <td>252</td>\n",
       "    </tr>\n",
       "    <tr>\n",
       "      <th>2</th>\n",
       "      <td>maps</td>\n",
       "      <td>237</td>\n",
       "    </tr>\n",
       "    <tr>\n",
       "      <th>3</th>\n",
       "      <td>property tax</td>\n",
       "      <td>214</td>\n",
       "    </tr>\n",
       "    <tr>\n",
       "      <th>4</th>\n",
       "      <td>jobs</td>\n",
       "      <td>210</td>\n",
       "    </tr>\n",
       "  </tbody>\n",
       "</table>\n",
       "</div>"
      ],
      "text/plain": [
       "            term  text\n",
       "0           ebid   521\n",
       "1  property maps   252\n",
       "2           maps   237\n",
       "3   property tax   214\n",
       "4           jobs   210"
      ]
     },
     "execution_count": 8,
     "metadata": {},
     "output_type": "execute_result"
    }
   ],
   "source": [
    "search_df = pd.DataFrame.from_dict(search_dict, orient = 'index')\n",
    "search_df = search_df.reset_index()\n",
    "search_df.columns = ['term', 'text']\n",
    "search_df.head()"
   ]
  },
  {
   "cell_type": "code",
   "execution_count": 9,
   "metadata": {},
   "outputs": [
    {
     "data": {
      "text/html": [
       "<div>\n",
       "<style scoped>\n",
       "    .dataframe tbody tr th:only-of-type {\n",
       "        vertical-align: middle;\n",
       "    }\n",
       "\n",
       "    .dataframe tbody tr th {\n",
       "        vertical-align: top;\n",
       "    }\n",
       "\n",
       "    .dataframe thead th {\n",
       "        text-align: right;\n",
       "    }\n",
       "</style>\n",
       "<table border=\"1\" class=\"dataframe\">\n",
       "  <thead>\n",
       "    <tr style=\"text-align: right;\">\n",
       "      <th></th>\n",
       "      <th>term</th>\n",
       "      <th>text</th>\n",
       "    </tr>\n",
       "  </thead>\n",
       "  <tbody>\n",
       "    <tr>\n",
       "      <th>0</th>\n",
       "      <td>ebid</td>\n",
       "      <td>521</td>\n",
       "    </tr>\n",
       "    <tr>\n",
       "      <th>1</th>\n",
       "      <td>property maps</td>\n",
       "      <td>252</td>\n",
       "    </tr>\n",
       "    <tr>\n",
       "      <th>2</th>\n",
       "      <td>maps</td>\n",
       "      <td>237</td>\n",
       "    </tr>\n",
       "    <tr>\n",
       "      <th>10</th>\n",
       "      <td>property taxes</td>\n",
       "      <td>235</td>\n",
       "    </tr>\n",
       "    <tr>\n",
       "      <th>3</th>\n",
       "      <td>property tax</td>\n",
       "      <td>214</td>\n",
       "    </tr>\n",
       "    <tr>\n",
       "      <th>4</th>\n",
       "      <td>jobs</td>\n",
       "      <td>210</td>\n",
       "    </tr>\n",
       "    <tr>\n",
       "      <th>5</th>\n",
       "      <td>employment</td>\n",
       "      <td>189</td>\n",
       "    </tr>\n",
       "    <tr>\n",
       "      <th>7</th>\n",
       "      <td>police</td>\n",
       "      <td>167</td>\n",
       "    </tr>\n",
       "    <tr>\n",
       "      <th>8</th>\n",
       "      <td>criminal court clerk</td>\n",
       "      <td>167</td>\n",
       "    </tr>\n",
       "    <tr>\n",
       "      <th>9</th>\n",
       "      <td>media releases</td>\n",
       "      <td>165</td>\n",
       "    </tr>\n",
       "  </tbody>\n",
       "</table>\n",
       "</div>"
      ],
      "text/plain": [
       "                    term  text\n",
       "0                   ebid   521\n",
       "1          property maps   252\n",
       "2                   maps   237\n",
       "10        property taxes   235\n",
       "3           property tax   214\n",
       "4                   jobs   210\n",
       "5             employment   189\n",
       "7                 police   167\n",
       "8   criminal court clerk   167\n",
       "9         media releases   165"
      ]
     },
     "execution_count": 9,
     "metadata": {},
     "output_type": "execute_result"
    }
   ],
   "source": [
    "search_df = search_df.sort_values('text', ascending=False)\n",
    "search_df.head(10)"
   ]
  },
  {
   "cell_type": "code",
   "execution_count": 10,
   "metadata": {},
   "outputs": [
    {
     "data": {
      "image/png": "[encoded data removed]",
      "text/plain": [
       "<Figure size 648x432 with 1 Axes>"
      ]
     },
     "metadata": {
      "needs_background": "light"
     },
     "output_type": "display_data"
    }
   ],
   "source": [
    "plt.figure(figsize=(9,6))\n",
    "plt.bar('term', 'text', data = search_df.head(25))\n",
    "plt.xticks(rotation = 75);"
   ]
  },
  {
   "cell_type": "markdown",
   "metadata": {},
   "source": [
    "# Question 1"
   ]
  },
  {
   "cell_type": "code",
   "execution_count": null,
   "metadata": {},
   "outputs": [],
   "source": [
    "#Make an API request that returns the months where \"fire\" was searched in 2016. Which month had the most searches?"
   ]
  },
  {
   "cell_type": "code",
   "execution_count": 11,
   "metadata": {},
   "outputs": [],
   "source": [
    "argsq1 = '?year=2016&query_text=fire'"
   ]
  },
  {
   "cell_type": "code",
   "execution_count": 12,
   "metadata": {},
   "outputs": [],
   "source": [
    "#args = '?month=7&query_text=ess'...to change what I want to pull in from the website...replaces the parameters arguments"
   ]
  },
  {
   "cell_type": "code",
   "execution_count": 13,
   "metadata": {},
   "outputs": [],
   "source": [
    "searchq1 = endpoint + argsq1"
   ]
  },
  {
   "cell_type": "code",
   "execution_count": 14,
   "metadata": {},
   "outputs": [],
   "source": [
    "responseq1 = requests.get(searchq1)"
   ]
  },
  {
   "cell_type": "code",
   "execution_count": 15,
   "metadata": {},
   "outputs": [
    {
     "data": {
      "text/plain": [
       "<Response [200]>"
      ]
     },
     "execution_count": 15,
     "metadata": {},
     "output_type": "execute_result"
    }
   ],
   "source": [
    "responseq1"
   ]
  },
  {
   "cell_type": "code",
   "execution_count": 16,
   "metadata": {},
   "outputs": [],
   "source": [
    "resultsq1 = responseq1.json()"
   ]
  },
  {
   "cell_type": "code",
   "execution_count": 17,
   "metadata": {},
   "outputs": [],
   "source": [
    "question1_df = pd.DataFrame.from_dict(resultsq1)"
   ]
  },
  {
   "cell_type": "code",
   "execution_count": 18,
   "metadata": {},
   "outputs": [
    {
     "data": {
      "text/html": [
       "<div>\n",
       "<style scoped>\n",
       "    .dataframe tbody tr th:only-of-type {\n",
       "        vertical-align: middle;\n",
       "    }\n",
       "\n",
       "    .dataframe tbody tr th {\n",
       "        vertical-align: top;\n",
       "    }\n",
       "\n",
       "    .dataframe thead th {\n",
       "        text-align: right;\n",
       "    }\n",
       "</style>\n",
       "<table border=\"1\" class=\"dataframe\">\n",
       "  <thead>\n",
       "    <tr style=\"text-align: right;\">\n",
       "      <th></th>\n",
       "      <th>month_name</th>\n",
       "      <th>year</th>\n",
       "      <th>query_count</th>\n",
       "      <th>query_text</th>\n",
       "    </tr>\n",
       "  </thead>\n",
       "  <tbody>\n",
       "    <tr>\n",
       "      <th>7</th>\n",
       "      <td>August</td>\n",
       "      <td>2016</td>\n",
       "      <td>47</td>\n",
       "      <td>fire</td>\n",
       "    </tr>\n",
       "    <tr>\n",
       "      <th>9</th>\n",
       "      <td>October</td>\n",
       "      <td>2016</td>\n",
       "      <td>38</td>\n",
       "      <td>fire</td>\n",
       "    </tr>\n",
       "    <tr>\n",
       "      <th>11</th>\n",
       "      <td>December</td>\n",
       "      <td>2016</td>\n",
       "      <td>38</td>\n",
       "      <td>fire</td>\n",
       "    </tr>\n",
       "    <tr>\n",
       "      <th>8</th>\n",
       "      <td>September</td>\n",
       "      <td>2016</td>\n",
       "      <td>36</td>\n",
       "      <td>fire</td>\n",
       "    </tr>\n",
       "    <tr>\n",
       "      <th>1</th>\n",
       "      <td>February</td>\n",
       "      <td>2016</td>\n",
       "      <td>35</td>\n",
       "      <td>fire</td>\n",
       "    </tr>\n",
       "    <tr>\n",
       "      <th>2</th>\n",
       "      <td>March</td>\n",
       "      <td>2016</td>\n",
       "      <td>32</td>\n",
       "      <td>fire</td>\n",
       "    </tr>\n",
       "    <tr>\n",
       "      <th>10</th>\n",
       "      <td>November</td>\n",
       "      <td>2016</td>\n",
       "      <td>32</td>\n",
       "      <td>fire</td>\n",
       "    </tr>\n",
       "    <tr>\n",
       "      <th>5</th>\n",
       "      <td>June</td>\n",
       "      <td>2016</td>\n",
       "      <td>31</td>\n",
       "      <td>fire</td>\n",
       "    </tr>\n",
       "    <tr>\n",
       "      <th>3</th>\n",
       "      <td>April</td>\n",
       "      <td>2016</td>\n",
       "      <td>26</td>\n",
       "      <td>fire</td>\n",
       "    </tr>\n",
       "    <tr>\n",
       "      <th>4</th>\n",
       "      <td>May</td>\n",
       "      <td>2016</td>\n",
       "      <td>24</td>\n",
       "      <td>fire</td>\n",
       "    </tr>\n",
       "    <tr>\n",
       "      <th>6</th>\n",
       "      <td>July</td>\n",
       "      <td>2016</td>\n",
       "      <td>24</td>\n",
       "      <td>fire</td>\n",
       "    </tr>\n",
       "    <tr>\n",
       "      <th>0</th>\n",
       "      <td>January</td>\n",
       "      <td>2016</td>\n",
       "      <td>19</td>\n",
       "      <td>fire</td>\n",
       "    </tr>\n",
       "  </tbody>\n",
       "</table>\n",
       "</div>"
      ],
      "text/plain": [
       "   month_name  year query_count query_text\n",
       "7      August  2016          47       fire\n",
       "9     October  2016          38       fire\n",
       "11   December  2016          38       fire\n",
       "8   September  2016          36       fire\n",
       "1    February  2016          35       fire\n",
       "2       March  2016          32       fire\n",
       "10   November  2016          32       fire\n",
       "5        June  2016          31       fire\n",
       "3       April  2016          26       fire\n",
       "4         May  2016          24       fire\n",
       "6        July  2016          24       fire\n",
       "0     January  2016          19       fire"
      ]
     },
     "execution_count": 18,
     "metadata": {},
     "output_type": "execute_result"
    }
   ],
   "source": [
    "question1_df.sort_values(by = 'query_count',\n",
    "                         axis=0,\n",
    "                         ascending=False)"
   ]
  },
  {
   "cell_type": "code",
   "execution_count": 19,
   "metadata": {},
   "outputs": [],
   "source": [
    "#question1_df[['month_name', 'year', 'query_count', 'query_text']]"
   ]
  },
  {
   "cell_type": "markdown",
   "metadata": {},
   "source": [
    "# Question 2"
   ]
  },
  {
   "cell_type": "code",
   "execution_count": 20,
   "metadata": {},
   "outputs": [],
   "source": [
    "#Make an API request that returns all the times a query was run more than 100 times in a month. \n",
    "#How many times did this occur?"
   ]
  },
  {
   "cell_type": "code",
   "execution_count": 21,
   "metadata": {},
   "outputs": [],
   "source": [
    "argsq2 = '?$where=query_count>100&$limit=43177'\n",
    "#'?query_count>100'\n",
    "#$limit=43177"
   ]
  },
  {
   "cell_type": "code",
   "execution_count": 22,
   "metadata": {},
   "outputs": [],
   "source": [
    "searchq2 = endpoint + argsq2"
   ]
  },
  {
   "cell_type": "code",
   "execution_count": 23,
   "metadata": {},
   "outputs": [],
   "source": [
    "responseq2 = requests.get(searchq2)"
   ]
  },
  {
   "cell_type": "code",
   "execution_count": 24,
   "metadata": {},
   "outputs": [
    {
     "data": {
      "text/plain": [
       "<Response [200]>"
      ]
     },
     "execution_count": 24,
     "metadata": {},
     "output_type": "execute_result"
    }
   ],
   "source": [
    "responseq2"
   ]
  },
  {
   "cell_type": "code",
   "execution_count": 25,
   "metadata": {},
   "outputs": [],
   "source": [
    "resultsq2 = responseq2.json()"
   ]
  },
  {
   "cell_type": "code",
   "execution_count": 26,
   "metadata": {},
   "outputs": [],
   "source": [
    "question2_df = pd.DataFrame.from_dict(resultsq2)"
   ]
  },
  {
   "cell_type": "code",
   "execution_count": 27,
   "metadata": {},
   "outputs": [
    {
     "data": {
      "text/html": [
       "<div>\n",
       "<style scoped>\n",
       "    .dataframe tbody tr th:only-of-type {\n",
       "        vertical-align: middle;\n",
       "    }\n",
       "\n",
       "    .dataframe tbody tr th {\n",
       "        vertical-align: top;\n",
       "    }\n",
       "\n",
       "    .dataframe thead th {\n",
       "        text-align: right;\n",
       "    }\n",
       "</style>\n",
       "<table border=\"1\" class=\"dataframe\">\n",
       "  <thead>\n",
       "    <tr style=\"text-align: right;\">\n",
       "      <th></th>\n",
       "      <th>month_name</th>\n",
       "      <th>year</th>\n",
       "      <th>query_count</th>\n",
       "      <th>query_text</th>\n",
       "      <th>month</th>\n",
       "    </tr>\n",
       "  </thead>\n",
       "  <tbody>\n",
       "    <tr>\n",
       "      <th>1237</th>\n",
       "      <td>October</td>\n",
       "      <td>2018</td>\n",
       "      <td>816</td>\n",
       "      <td>annual enrollment</td>\n",
       "      <td>NaN</td>\n",
       "    </tr>\n",
       "    <tr>\n",
       "      <th>1236</th>\n",
       "      <td>September</td>\n",
       "      <td>2018</td>\n",
       "      <td>750</td>\n",
       "      <td>annual enrollment</td>\n",
       "      <td>NaN</td>\n",
       "    </tr>\n",
       "    <tr>\n",
       "      <th>1235</th>\n",
       "      <td>September</td>\n",
       "      <td>2017</td>\n",
       "      <td>704</td>\n",
       "      <td>annual enrollment</td>\n",
       "      <td>NaN</td>\n",
       "    </tr>\n",
       "    <tr>\n",
       "      <th>1234</th>\n",
       "      <td>October</td>\n",
       "      <td>2019</td>\n",
       "      <td>692</td>\n",
       "      <td>directory</td>\n",
       "      <td>10</td>\n",
       "    </tr>\n",
       "    <tr>\n",
       "      <th>1233</th>\n",
       "      <td>October</td>\n",
       "      <td>2017</td>\n",
       "      <td>648</td>\n",
       "      <td>annual enrollment</td>\n",
       "      <td>NaN</td>\n",
       "    </tr>\n",
       "    <tr>\n",
       "      <th>...</th>\n",
       "      <td>...</td>\n",
       "      <td>...</td>\n",
       "      <td>...</td>\n",
       "      <td>...</td>\n",
       "      <td>...</td>\n",
       "    </tr>\n",
       "    <tr>\n",
       "      <th>27</th>\n",
       "      <td>July</td>\n",
       "      <td>2020</td>\n",
       "      <td>101</td>\n",
       "      <td>Birth certificate</td>\n",
       "      <td>7</td>\n",
       "    </tr>\n",
       "    <tr>\n",
       "      <th>28</th>\n",
       "      <td>February</td>\n",
       "      <td>2021</td>\n",
       "      <td>101</td>\n",
       "      <td>Trash pickup</td>\n",
       "      <td>2</td>\n",
       "    </tr>\n",
       "    <tr>\n",
       "      <th>29</th>\n",
       "      <td>March</td>\n",
       "      <td>2021</td>\n",
       "      <td>101</td>\n",
       "      <td>Property maps</td>\n",
       "      <td>3</td>\n",
       "    </tr>\n",
       "    <tr>\n",
       "      <th>30</th>\n",
       "      <td>May</td>\n",
       "      <td>2021</td>\n",
       "      <td>101</td>\n",
       "      <td>water</td>\n",
       "      <td>5</td>\n",
       "    </tr>\n",
       "    <tr>\n",
       "      <th>0</th>\n",
       "      <td>March</td>\n",
       "      <td>2014</td>\n",
       "      <td>101</td>\n",
       "      <td>permits</td>\n",
       "      <td>NaN</td>\n",
       "    </tr>\n",
       "  </tbody>\n",
       "</table>\n",
       "<p>1241 rows × 5 columns</p>\n",
       "</div>"
      ],
      "text/plain": [
       "     month_name  year query_count         query_text month\n",
       "1237    October  2018         816  annual enrollment   NaN\n",
       "1236  September  2018         750  annual enrollment   NaN\n",
       "1235  September  2017         704  annual enrollment   NaN\n",
       "1234    October  2019         692          directory    10\n",
       "1233    October  2017         648  annual enrollment   NaN\n",
       "...         ...   ...         ...                ...   ...\n",
       "27         July  2020         101  Birth certificate     7\n",
       "28     February  2021         101       Trash pickup     2\n",
       "29        March  2021         101      Property maps     3\n",
       "30          May  2021         101              water     5\n",
       "0         March  2014         101            permits   NaN\n",
       "\n",
       "[1241 rows x 5 columns]"
      ]
     },
     "execution_count": 27,
     "metadata": {},
     "output_type": "execute_result"
    }
   ],
   "source": [
    "question2_df.sort_values(by = 'query_count',\n",
    "                        axis = 0,\n",
    "                        ascending = False)"
   ]
  },
  {
   "cell_type": "code",
   "execution_count": 28,
   "metadata": {},
   "outputs": [
    {
     "name": "stdout",
     "output_type": "stream",
     "text": [
      "<class 'pandas.core.frame.DataFrame'>\n",
      "RangeIndex: 1241 entries, 0 to 1240\n",
      "Data columns (total 5 columns):\n",
      " #   Column       Non-Null Count  Dtype \n",
      "---  ------       --------------  ----- \n",
      " 0   month_name   1241 non-null   object\n",
      " 1   year         1241 non-null   object\n",
      " 2   query_count  1241 non-null   object\n",
      " 3   query_text   1241 non-null   object\n",
      " 4   month        470 non-null    object\n",
      "dtypes: object(5)\n",
      "memory usage: 48.6+ KB\n"
     ]
    }
   ],
   "source": [
    "question2_df.info()"
   ]
  },
  {
   "cell_type": "code",
   "execution_count": 29,
   "metadata": {},
   "outputs": [],
   "source": [
    "# This occurred 1241 times"
   ]
  },
  {
   "cell_type": "markdown",
   "metadata": {},
   "source": [
    "# Question 3"
   ]
  },
  {
   "cell_type": "code",
   "execution_count": 30,
   "metadata": {},
   "outputs": [],
   "source": [
    "#Make another API request that returns all the times \"codes\" was searched more than 100 times in a month. \n",
    "#How many times did this occur?"
   ]
  },
  {
   "cell_type": "code",
   "execution_count": 31,
   "metadata": {},
   "outputs": [],
   "source": [
    "argsq3 = '?$where=query_count>100&$limit=43177&query_text=codes'"
   ]
  },
  {
   "cell_type": "code",
   "execution_count": 32,
   "metadata": {},
   "outputs": [],
   "source": [
    "searchq3 = endpoint + argsq3"
   ]
  },
  {
   "cell_type": "code",
   "execution_count": 33,
   "metadata": {},
   "outputs": [],
   "source": [
    "responseq3 = requests.get(searchq3)"
   ]
  },
  {
   "cell_type": "code",
   "execution_count": 34,
   "metadata": {},
   "outputs": [
    {
     "data": {
      "text/plain": [
       "<Response [200]>"
      ]
     },
     "execution_count": 34,
     "metadata": {},
     "output_type": "execute_result"
    }
   ],
   "source": [
    "responseq3"
   ]
  },
  {
   "cell_type": "code",
   "execution_count": 35,
   "metadata": {},
   "outputs": [],
   "source": [
    "resultsq3 = responseq3.json()"
   ]
  },
  {
   "cell_type": "code",
   "execution_count": 36,
   "metadata": {},
   "outputs": [],
   "source": [
    "question3_df = pd.DataFrame.from_dict(resultsq3)"
   ]
  },
  {
   "cell_type": "code",
   "execution_count": 56,
   "metadata": {},
   "outputs": [
    {
     "data": {
      "text/html": [
       "<div>\n",
       "<style scoped>\n",
       "    .dataframe tbody tr th:only-of-type {\n",
       "        vertical-align: middle;\n",
       "    }\n",
       "\n",
       "    .dataframe tbody tr th {\n",
       "        vertical-align: top;\n",
       "    }\n",
       "\n",
       "    .dataframe thead th {\n",
       "        text-align: right;\n",
       "    }\n",
       "</style>\n",
       "<table border=\"1\" class=\"dataframe\">\n",
       "  <thead>\n",
       "    <tr style=\"text-align: right;\">\n",
       "      <th></th>\n",
       "      <th>month_name</th>\n",
       "      <th>year</th>\n",
       "      <th>query_count</th>\n",
       "      <th>query_text</th>\n",
       "      <th>month</th>\n",
       "    </tr>\n",
       "  </thead>\n",
       "  <tbody>\n",
       "    <tr>\n",
       "      <th>54</th>\n",
       "      <td>May</td>\n",
       "      <td>2017</td>\n",
       "      <td>269</td>\n",
       "      <td>codes</td>\n",
       "      <td>NaN</td>\n",
       "    </tr>\n",
       "    <tr>\n",
       "      <th>53</th>\n",
       "      <td>August</td>\n",
       "      <td>2018</td>\n",
       "      <td>225</td>\n",
       "      <td>codes</td>\n",
       "      <td>NaN</td>\n",
       "    </tr>\n",
       "    <tr>\n",
       "      <th>52</th>\n",
       "      <td>August</td>\n",
       "      <td>2017</td>\n",
       "      <td>222</td>\n",
       "      <td>codes</td>\n",
       "      <td>NaN</td>\n",
       "    </tr>\n",
       "    <tr>\n",
       "      <th>51</th>\n",
       "      <td>July</td>\n",
       "      <td>2017</td>\n",
       "      <td>215</td>\n",
       "      <td>codes</td>\n",
       "      <td>NaN</td>\n",
       "    </tr>\n",
       "    <tr>\n",
       "      <th>50</th>\n",
       "      <td>June</td>\n",
       "      <td>2020</td>\n",
       "      <td>208</td>\n",
       "      <td>codes</td>\n",
       "      <td>6</td>\n",
       "    </tr>\n",
       "    <tr>\n",
       "      <th>49</th>\n",
       "      <td>October</td>\n",
       "      <td>2017</td>\n",
       "      <td>206</td>\n",
       "      <td>codes</td>\n",
       "      <td>NaN</td>\n",
       "    </tr>\n",
       "    <tr>\n",
       "      <th>48</th>\n",
       "      <td>June</td>\n",
       "      <td>2018</td>\n",
       "      <td>204</td>\n",
       "      <td>codes</td>\n",
       "      <td>NaN</td>\n",
       "    </tr>\n",
       "    <tr>\n",
       "      <th>47</th>\n",
       "      <td>November</td>\n",
       "      <td>2018</td>\n",
       "      <td>201</td>\n",
       "      <td>codes</td>\n",
       "      <td>NaN</td>\n",
       "    </tr>\n",
       "    <tr>\n",
       "      <th>46</th>\n",
       "      <td>June</td>\n",
       "      <td>2017</td>\n",
       "      <td>192</td>\n",
       "      <td>codes</td>\n",
       "      <td>NaN</td>\n",
       "    </tr>\n",
       "    <tr>\n",
       "      <th>45</th>\n",
       "      <td>January</td>\n",
       "      <td>2021</td>\n",
       "      <td>191</td>\n",
       "      <td>codes</td>\n",
       "      <td>1</td>\n",
       "    </tr>\n",
       "  </tbody>\n",
       "</table>\n",
       "</div>"
      ],
      "text/plain": [
       "   month_name  year query_count query_text month\n",
       "54        May  2017         269      codes   NaN\n",
       "53     August  2018         225      codes   NaN\n",
       "52     August  2017         222      codes   NaN\n",
       "51       July  2017         215      codes   NaN\n",
       "50       June  2020         208      codes     6\n",
       "49    October  2017         206      codes   NaN\n",
       "48       June  2018         204      codes   NaN\n",
       "47   November  2018         201      codes   NaN\n",
       "46       June  2017         192      codes   NaN\n",
       "45    January  2021         191      codes     1"
      ]
     },
     "execution_count": 56,
     "metadata": {},
     "output_type": "execute_result"
    }
   ],
   "source": [
    "question3_df.sort_values(by = 'query_count',\n",
    "                        axis = 0,\n",
    "                        ascending = False).head(10)"
   ]
  },
  {
   "cell_type": "code",
   "execution_count": 38,
   "metadata": {},
   "outputs": [
    {
     "name": "stdout",
     "output_type": "stream",
     "text": [
      "<class 'pandas.core.frame.DataFrame'>\n",
      "RangeIndex: 55 entries, 0 to 54\n",
      "Data columns (total 5 columns):\n",
      " #   Column       Non-Null Count  Dtype \n",
      "---  ------       --------------  ----- \n",
      " 0   month_name   55 non-null     object\n",
      " 1   year         55 non-null     object\n",
      " 2   query_count  55 non-null     object\n",
      " 3   query_text   55 non-null     object\n",
      " 4   month        28 non-null     object\n",
      "dtypes: object(5)\n",
      "memory usage: 2.3+ KB\n"
     ]
    }
   ],
   "source": [
    "question3_df.info()"
   ]
  },
  {
   "cell_type": "code",
   "execution_count": 39,
   "metadata": {},
   "outputs": [],
   "source": [
    "# This happened 55 times"
   ]
  },
  {
   "cell_type": "markdown",
   "metadata": {},
   "source": [
    "# Question 4"
   ]
  },
  {
   "cell_type": "code",
   "execution_count": 40,
   "metadata": {},
   "outputs": [],
   "source": [
    "#Make an API request that returns the entire Top 500 Monthly Searches dataset. \n",
    "#Make a chart that shows the number of times \"maps\" was searched in a month across the entire time frame."
   ]
  },
  {
   "cell_type": "code",
   "execution_count": 41,
   "metadata": {},
   "outputs": [],
   "source": [
    "argsq4 = '?$limit=43177'"
   ]
  },
  {
   "cell_type": "code",
   "execution_count": 42,
   "metadata": {},
   "outputs": [],
   "source": [
    "searchq4 = endpoint + argsq4"
   ]
  },
  {
   "cell_type": "code",
   "execution_count": 43,
   "metadata": {},
   "outputs": [],
   "source": [
    "responseq4 = requests.get(searchq4)"
   ]
  },
  {
   "cell_type": "code",
   "execution_count": 44,
   "metadata": {},
   "outputs": [
    {
     "data": {
      "text/plain": [
       "<Response [200]>"
      ]
     },
     "execution_count": 44,
     "metadata": {},
     "output_type": "execute_result"
    }
   ],
   "source": [
    "responseq4"
   ]
  },
  {
   "cell_type": "code",
   "execution_count": 45,
   "metadata": {},
   "outputs": [],
   "source": [
    "resultq4 = responseq4.json()"
   ]
  },
  {
   "cell_type": "code",
   "execution_count": 46,
   "metadata": {},
   "outputs": [],
   "source": [
    "q4df = pd.DataFrame.from_dict(resultq4)"
   ]
  },
  {
   "cell_type": "code",
   "execution_count": 47,
   "metadata": {},
   "outputs": [
    {
     "data": {
      "text/html": [
       "<div>\n",
       "<style scoped>\n",
       "    .dataframe tbody tr th:only-of-type {\n",
       "        vertical-align: middle;\n",
       "    }\n",
       "\n",
       "    .dataframe tbody tr th {\n",
       "        vertical-align: top;\n",
       "    }\n",
       "\n",
       "    .dataframe thead th {\n",
       "        text-align: right;\n",
       "    }\n",
       "</style>\n",
       "<table border=\"1\" class=\"dataframe\">\n",
       "  <thead>\n",
       "    <tr style=\"text-align: right;\">\n",
       "      <th></th>\n",
       "      <th>month_name</th>\n",
       "      <th>year</th>\n",
       "      <th>query_count</th>\n",
       "      <th>query_text</th>\n",
       "      <th>month</th>\n",
       "    </tr>\n",
       "  </thead>\n",
       "  <tbody>\n",
       "    <tr>\n",
       "      <th>0</th>\n",
       "      <td>January</td>\n",
       "      <td>2014</td>\n",
       "      <td>223</td>\n",
       "      <td>ebid</td>\n",
       "      <td>NaN</td>\n",
       "    </tr>\n",
       "    <tr>\n",
       "      <th>1</th>\n",
       "      <td>January</td>\n",
       "      <td>2014</td>\n",
       "      <td>112</td>\n",
       "      <td>property maps</td>\n",
       "      <td>NaN</td>\n",
       "    </tr>\n",
       "    <tr>\n",
       "      <th>2</th>\n",
       "      <td>January</td>\n",
       "      <td>2014</td>\n",
       "      <td>97</td>\n",
       "      <td>maps</td>\n",
       "      <td>NaN</td>\n",
       "    </tr>\n",
       "    <tr>\n",
       "      <th>3</th>\n",
       "      <td>January</td>\n",
       "      <td>2014</td>\n",
       "      <td>90</td>\n",
       "      <td>property tax</td>\n",
       "      <td>NaN</td>\n",
       "    </tr>\n",
       "    <tr>\n",
       "      <th>4</th>\n",
       "      <td>January</td>\n",
       "      <td>2014</td>\n",
       "      <td>76</td>\n",
       "      <td>jobs</td>\n",
       "      <td>NaN</td>\n",
       "    </tr>\n",
       "    <tr>\n",
       "      <th>...</th>\n",
       "      <td>...</td>\n",
       "      <td>...</td>\n",
       "      <td>...</td>\n",
       "      <td>...</td>\n",
       "      <td>...</td>\n",
       "    </tr>\n",
       "    <tr>\n",
       "      <th>43172</th>\n",
       "      <td>June</td>\n",
       "      <td>2021</td>\n",
       "      <td>8</td>\n",
       "      <td>Register</td>\n",
       "      <td>6</td>\n",
       "    </tr>\n",
       "    <tr>\n",
       "      <th>43173</th>\n",
       "      <td>June</td>\n",
       "      <td>2021</td>\n",
       "      <td>8</td>\n",
       "      <td>Prices</td>\n",
       "      <td>6</td>\n",
       "    </tr>\n",
       "    <tr>\n",
       "      <th>43174</th>\n",
       "      <td>June</td>\n",
       "      <td>2021</td>\n",
       "      <td>8</td>\n",
       "      <td>pool permit</td>\n",
       "      <td>6</td>\n",
       "    </tr>\n",
       "    <tr>\n",
       "      <th>43175</th>\n",
       "      <td>June</td>\n",
       "      <td>2021</td>\n",
       "      <td>8</td>\n",
       "      <td>property owner</td>\n",
       "      <td>6</td>\n",
       "    </tr>\n",
       "    <tr>\n",
       "      <th>43176</th>\n",
       "      <td>June</td>\n",
       "      <td>2021</td>\n",
       "      <td>8</td>\n",
       "      <td>Property title</td>\n",
       "      <td>6</td>\n",
       "    </tr>\n",
       "  </tbody>\n",
       "</table>\n",
       "<p>43177 rows × 5 columns</p>\n",
       "</div>"
      ],
      "text/plain": [
       "      month_name  year query_count      query_text month\n",
       "0        January  2014         223            ebid   NaN\n",
       "1        January  2014         112   property maps   NaN\n",
       "2        January  2014          97            maps   NaN\n",
       "3        January  2014          90    property tax   NaN\n",
       "4        January  2014          76            jobs   NaN\n",
       "...          ...   ...         ...             ...   ...\n",
       "43172       June  2021           8        Register     6\n",
       "43173       June  2021           8          Prices     6\n",
       "43174       June  2021           8     pool permit     6\n",
       "43175       June  2021           8  property owner     6\n",
       "43176       June  2021           8  Property title     6\n",
       "\n",
       "[43177 rows x 5 columns]"
      ]
     },
     "execution_count": 47,
     "metadata": {},
     "output_type": "execute_result"
    }
   ],
   "source": [
    "q4df"
   ]
  },
  {
   "cell_type": "code",
   "execution_count": 48,
   "metadata": {},
   "outputs": [],
   "source": [
    "#question4_df = pd.DataFrame.from_dict(resultq4)\n",
    "#question4_df.head(10)"
   ]
  },
  {
   "cell_type": "code",
   "execution_count": 49,
   "metadata": {},
   "outputs": [],
   "source": [
    "mapsdf = q4df[q4df['query_text']=='maps']#subsetting for 'maps' in the query_text column\n",
    "#mapsdf ="
   ]
  },
  {
   "cell_type": "code",
   "execution_count": 50,
   "metadata": {},
   "outputs": [
    {
     "data": {
      "text/plain": [
       "str"
      ]
     },
     "execution_count": 50,
     "metadata": {},
     "output_type": "execute_result"
    }
   ],
   "source": [
    "type('query_count')"
   ]
  },
  {
   "cell_type": "code",
   "execution_count": 51,
   "metadata": {},
   "outputs": [
    {
     "name": "stderr",
     "output_type": "stream",
     "text": [
      "<ipython-input-51-2597b336f348>:2: SettingWithCopyWarning: \n",
      "A value is trying to be set on a copy of a slice from a DataFrame.\n",
      "Try using .loc[row_indexer,col_indexer] = value instead\n",
      "\n",
      "See the caveats in the documentation: https://pandas.pydata.org/pandas-docs/stable/user_guide/indexing.html#returning-a-view-versus-a-copy\n",
      "  mapsdf['query_count'] = mapsdf['query_count'].astype('int')\n"
     ]
    }
   ],
   "source": [
    "#int('query_count')\n",
    "mapsdf['query_count'] = mapsdf['query_count'].astype('int')"
   ]
  },
  {
   "cell_type": "code",
   "execution_count": 59,
   "metadata": {},
   "outputs": [
    {
     "data": {
      "text/html": [
       "<div>\n",
       "<style scoped>\n",
       "    .dataframe tbody tr th:only-of-type {\n",
       "        vertical-align: middle;\n",
       "    }\n",
       "\n",
       "    .dataframe tbody tr th {\n",
       "        vertical-align: top;\n",
       "    }\n",
       "\n",
       "    .dataframe thead th {\n",
       "        text-align: right;\n",
       "    }\n",
       "</style>\n",
       "<table border=\"1\" class=\"dataframe\">\n",
       "  <thead>\n",
       "    <tr style=\"text-align: right;\">\n",
       "      <th></th>\n",
       "      <th>month_name</th>\n",
       "      <th>query_count</th>\n",
       "    </tr>\n",
       "  </thead>\n",
       "  <tbody>\n",
       "    <tr>\n",
       "      <th>0</th>\n",
       "      <td>April</td>\n",
       "      <td>1309</td>\n",
       "    </tr>\n",
       "    <tr>\n",
       "      <th>1</th>\n",
       "      <td>August</td>\n",
       "      <td>991</td>\n",
       "    </tr>\n",
       "    <tr>\n",
       "      <th>2</th>\n",
       "      <td>December</td>\n",
       "      <td>556</td>\n",
       "    </tr>\n",
       "    <tr>\n",
       "      <th>3</th>\n",
       "      <td>February</td>\n",
       "      <td>832</td>\n",
       "    </tr>\n",
       "    <tr>\n",
       "      <th>4</th>\n",
       "      <td>January</td>\n",
       "      <td>924</td>\n",
       "    </tr>\n",
       "    <tr>\n",
       "      <th>5</th>\n",
       "      <td>July</td>\n",
       "      <td>1062</td>\n",
       "    </tr>\n",
       "    <tr>\n",
       "      <th>6</th>\n",
       "      <td>June</td>\n",
       "      <td>1216</td>\n",
       "    </tr>\n",
       "    <tr>\n",
       "      <th>7</th>\n",
       "      <td>March</td>\n",
       "      <td>1090</td>\n",
       "    </tr>\n",
       "    <tr>\n",
       "      <th>8</th>\n",
       "      <td>May</td>\n",
       "      <td>1019</td>\n",
       "    </tr>\n",
       "    <tr>\n",
       "      <th>9</th>\n",
       "      <td>November</td>\n",
       "      <td>805</td>\n",
       "    </tr>\n",
       "    <tr>\n",
       "      <th>10</th>\n",
       "      <td>October</td>\n",
       "      <td>981</td>\n",
       "    </tr>\n",
       "    <tr>\n",
       "      <th>11</th>\n",
       "      <td>September</td>\n",
       "      <td>951</td>\n",
       "    </tr>\n",
       "  </tbody>\n",
       "</table>\n",
       "</div>"
      ],
      "text/plain": [
       "   month_name  query_count\n",
       "0       April         1309\n",
       "1      August          991\n",
       "2    December          556\n",
       "3    February          832\n",
       "4     January          924\n",
       "5        July         1062\n",
       "6        June         1216\n",
       "7       March         1090\n",
       "8         May         1019\n",
       "9    November          805\n",
       "10    October          981\n",
       "11  September          951"
      ]
     },
     "execution_count": 59,
     "metadata": {},
     "output_type": "execute_result"
    }
   ],
   "source": [
    "mapsdf = mapsdf.groupby('month_name', as_index = False).sum()\n",
    "mapsdf\n",
    "#as_index=False makes a normal index in the dataframe\n"
   ]
  },
  {
   "cell_type": "code",
   "execution_count": 58,
   "metadata": {},
   "outputs": [
    {
     "data": {
      "image/png": "[encoded data removed]",
      "text/plain": [
       "<Figure size 648x432 with 1 Axes>"
      ]
     },
     "metadata": {
      "needs_background": "light"
     },
     "output_type": "display_data"
    }
   ],
   "source": [
    "plt.figure(figsize=(9,6))\n",
    "plt.bar('month_name', 'query_count', data = mapsdf)\n",
    "plt.xticks(rotation = 45);"
   ]
  },
  {
   "cell_type": "code",
   "execution_count": 54,
   "metadata": {},
   "outputs": [],
   "source": [
    "#{'month_name': 'January', 'year': '2014', 'query_count': '13', 'query_text': 'metro maps'}"
   ]
  },
  {
   "cell_type": "code",
   "execution_count": 55,
   "metadata": {},
   "outputs": [],
   "source": [
    "### search_dict = \n",
    "#for line in resultq4:\n",
    "#    count = int(line.get('query_count'))\n",
    "#    month = line.get('month_name')\n",
    "#    if month in search_dict:\n",
    "#        search_dict[month] += count #searching for a key [text] then add an amount to existing amount for count, \n",
    "                                   #if its not there we create the key in the else statement\n",
    "#    else:\n",
    "#        search_dict[month] = count\n",
    "#    print(month, count)\n",
    "#search_dict\n",
    "#text = 'maps'\n",
    "#query_count"
   ]
  },
  {
   "cell_type": "code",
   "execution_count": null,
   "metadata": {},
   "outputs": [],
   "source": []
  }
 ],
 "metadata": {
  "kernelspec": {
   "display_name": "Python 3",
   "language": "python",
   "name": "python3"
  },
  "language_info": {
   "codemirror_mode": {
    "name": "ipython",
    "version": 3
   },
   "file_extension": ".py",
   "mimetype": "text/x-python",
   "name": "python",
   "nbconvert_exporter": "python",
   "pygments_lexer": "ipython3",
   "version": "3.8.8"
  }
 },
 "nbformat": 4,
 "nbformat_minor": 4
}
